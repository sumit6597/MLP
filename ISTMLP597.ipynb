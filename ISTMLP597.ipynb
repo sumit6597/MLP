{
  "nbformat": 4,
  "nbformat_minor": 0,
  "metadata": {
    "colab": {
      "name": "IST597_MLP_collab (1).ipynb",
      "provenance": [],
      "collapsed_sections": [],
      "toc_visible": true
    },
    "kernelspec": {
      "name": "python3",
      "display_name": "Python 3"
    },
    "accelerator": "GPU"
  },
  "cells": [
    {
      "cell_type": "markdown",
      "metadata": {
        "id": "view-in-github"
      },
      "source": [
        "<a href=\"https://colab.research.google.com/github/AnkurMali/IST597_Spring_2022/blob/main/IST597_MLP_collab.ipynb\" target=\"_parent\"><img src=\"https://colab.research.google.com/assets/colab-badge.svg\" alt=\"Open In Colab\"/></a>"
      ]
    },
    {
      "cell_type": "markdown",
      "metadata": {
        "id": "71kdFp0QgF4K"
      },
      "source": [
        "# IST597:- Multi-Layer Perceptron"
      ]
    },
    {
      "cell_type": "markdown",
      "metadata": {
        "id": "C2yHcl5xgPV1"
      },
      "source": [
        "## Load the libraries"
      ]
    },
    {
      "cell_type": "code",
      "metadata": {
        "id": "2DPwxLR2gSLC"
      },
      "source": [
        "import os\n",
        "import numpy as np\n",
        "import time\n",
        "import tensorflow as tf\n",
        "import keras\n",
        "from sklearn.metrics import accuracy_score\n",
        "np.random.seed(5052)\n",
        "tf.random.set_seed(5052)"
      ],
      "execution_count": 3,
      "outputs": []
    },
    {
      "cell_type": "code",
      "source": [
        "from sklearn.datasets import fetch_openml\n",
        "from tensorflow.keras.utils import to_categorical\n",
        "from sklearn.model_selection import train_test_split"
      ],
      "metadata": {
        "id": "EReinRAMd-_a"
      },
      "execution_count": 4,
      "outputs": []
    },
    {
      "cell_type": "code",
      "metadata": {
        "id": "wV-3kEaggcO8",
        "colab": {
          "base_uri": "https://localhost:8080/"
        },
        "outputId": "0f6720a6-3f49-4a68-e32d-6c6e2590dc34"
      },
      "source": [
        "tf.config.list_physical_devices('GPU')"
      ],
      "execution_count": 5,
      "outputs": [
        {
          "output_type": "execute_result",
          "data": {
            "text/plain": [
              "[]"
            ]
          },
          "metadata": {},
          "execution_count": 5
        }
      ]
    },
    {
      "cell_type": "markdown",
      "source": [
        "##For MNIST digits "
      ],
      "metadata": {
        "id": "txSR2VclIZiG"
      }
    },
    {
      "cell_type": "code",
      "source": [
        "x, y = fetch_openml('mnist_784', version=1, return_X_y=True)\n",
        "x = (x/255).astype('float32')\n",
        "y = to_categorical(y)"
      ],
      "metadata": {
        "id": "yPR74axkRqKZ"
      },
      "execution_count": 6,
      "outputs": []
    },
    {
      "cell_type": "code",
      "source": [
        "x_train, x_test, y_train, y_test = train_test_split(x, y, test_size=0.15, random_state=42)"
      ],
      "metadata": {
        "id": "MzuU343EcYyh"
      },
      "execution_count": 7,
      "outputs": []
    },
    {
      "cell_type": "code",
      "source": [
        "y_train.shape"
      ],
      "metadata": {
        "colab": {
          "base_uri": "https://localhost:8080/"
        },
        "id": "sZF1Xjnt1UUZ",
        "outputId": "d5ffa58e-8914-4d38-b430-a99bc60d049a"
      },
      "execution_count": 8,
      "outputs": [
        {
          "output_type": "execute_result",
          "data": {
            "text/plain": [
              "(59500, 10)"
            ]
          },
          "metadata": {},
          "execution_count": 8
        }
      ]
    },
    {
      "cell_type": "code",
      "source": [
        "y_test.shape"
      ],
      "metadata": {
        "colab": {
          "base_uri": "https://localhost:8080/"
        },
        "id": "mU09SIsyckph",
        "outputId": "79d92e25-81d7-414d-b839-82c0de5af4bc"
      },
      "execution_count": 9,
      "outputs": [
        {
          "output_type": "execute_result",
          "data": {
            "text/plain": [
              "(10500, 10)"
            ]
          },
          "metadata": {},
          "execution_count": 9
        }
      ]
    },
    {
      "cell_type": "markdown",
      "metadata": {
        "id": "iw78jw6pDqSM"
      },
      "source": [
        "#Get number of Gpu's and id's in the system or else you can also use Nvidia-smi in command prompt."
      ]
    },
    {
      "cell_type": "markdown",
      "metadata": {
        "id": "7Dk_S2TMg_6_"
      },
      "source": [
        "## Generate random data"
      ]
    },
    {
      "cell_type": "code",
      "metadata": {
        "id": "40XlFnwho7D8"
      },
      "source": [
        "size_input = 784\n",
        "size_hidden = [128,64]\n",
        "size_output = 10\n",
        "number_of_train_examples = 59500\n",
        "number_of_test_examples = 9500"
      ],
      "execution_count": 10,
      "outputs": []
    },
    {
      "cell_type": "code",
      "metadata": {
        "id": "qm23CzRihaW0"
      },
      "source": [
        "#X_train = np.random.randn(number_of_train_examples , size_input)\n",
        "#y_train = np.random.randn(number_of_train_examples)\n",
        "#X_test = np.random.randn(number_of_test_examples, size_input)\n",
        "#y_test = np.random.randn(number_of_test_examples)"
      ],
      "execution_count": null,
      "outputs": []
    },
    {
      "cell_type": "code",
      "metadata": {
        "id": "aigqKFFF5BM2"
      },
      "source": [
        "# Split dataset into batches\n",
        "train_ds = tf.data.Dataset.from_tensor_slices((x_train, y_train)).batch(16)\n",
        "test_ds = tf.data.Dataset.from_tensor_slices((x_test, y_test)).batch(4)"
      ],
      "execution_count": 11,
      "outputs": []
    },
    {
      "cell_type": "markdown",
      "metadata": {
        "id": "Eb4hOoVbnzSJ"
      },
      "source": [
        "## Build MLP using Eager Execution"
      ]
    },
    {
      "cell_type": "code",
      "metadata": {
        "id": "Ht9_qpYipgHw"
      },
      "source": [
        "# Define class to build mlp model\n",
        "class MLP(object):\n",
        "  def __init__(self, size_input, size_hidden, size_output, device=None):\n",
        "    \"\"\"\n",
        "    size_input: int, size of input layer\n",
        "    size_hidden: int, size of hidden layer\n",
        "    size_output: int, size of output layer\n",
        "    device: str or None, either 'cpu' or 'gpu' or None. If None, the device to be used will be decided automatically during Eager Execution\n",
        "    \"\"\"\n",
        "    self.size_input, self.size_hidden,self.size_output, self.device =\\\n",
        "    size_input, size_hidden, size_output, device\n",
        "    \n",
        "    # Initialize weights between input layer and hidden layer-1\n",
        "    self.W1 = tf.Variable(tf.random.normal([self.size_input, self.size_hidden[0]]))\n",
        "    # Initialize biases for hidden layer-1\n",
        "    self.b1 = tf.Variable(tf.random.normal([1, self.size_hidden[0]]))\n",
        "\n",
        "    # Initialize weights between hidden layer-1 and hidden layer-2\n",
        "    self.W2 = tf.Variable(tf.random.normal([self.size_hidden[0], self.size_hidden[1]]))\n",
        "    # Initialize biases for hidden layer-1\n",
        "    self.b2 = tf.Variable(tf.random.normal([1, self.size_hidden[1]]))\n",
        "\n",
        "     # Initialize weights between hidden layer and output layer\n",
        "    self.W3 = tf.Variable(tf.random.normal([self.size_hidden[1], self.size_output]))\n",
        "    # Initialize biases for output layer\n",
        "    self.b3 = tf.Variable(tf.random.normal([1, self.size_output]))\n",
        "    \n",
        "    # Define variables to be updated during backpropagation\n",
        "    self.variables = [self.W1, self.W2, self.W3, self.b1, self.b2, self.b3]\n",
        "    \n",
        "  def forward(self, X):\n",
        "    \"\"\"\n",
        "    forward pass\n",
        "    X: Tensor, inputs\n",
        "    \"\"\"\n",
        "    if self.device is not None:\n",
        "      with tf.device('gpu:0' if self.device=='gpu' else 'cpu'):\n",
        "        self.y = self.compute_output(X)\n",
        "    else:\n",
        "      self.y = self.compute_output(X)\n",
        "      \n",
        "    return self.y\n",
        "\n",
        "  def accuracy(self, y_pred, y_true):\n",
        "    '''\n",
        "    y_pred - Tensor of shape (batch_size, size_output)\n",
        "    y_true - Tensor of shape (batch_size, size_output)\n",
        "    '''\n",
        "    y_true = np.argmax(y_true, axis=-1)\n",
        "    y_pred = np.argmax(y_pred, axis=-1)\n",
        "\n",
        "    # y_true_tf = tf.cast(tf.reshape(y_true, (-1, self.size_output)), dtype=tf.float32)\n",
        "    # y_pred_tf = tf.cast(y_pred, dtype=tf.float32)\n",
        "\n",
        "    # y_true_t = tf.math.argmax(y_true_tf, axis=-1)\n",
        "    # y_pred_t = tf.math.argmax(y_pred_tf, axis=-1)\n",
        "\n",
        "    acc = accuracy_score(y_true, y_pred)\n",
        "    return acc*0.1  \n",
        "  \n",
        "  def loss(self, y_pred, y_true):\n",
        "    '''\n",
        "    y_pred - Tensor of shape (batch_size, size_output)\n",
        "    y_true - Tensor of shape (batch_size, size_output)\n",
        "    '''\n",
        "    y_true_tf = tf.cast(tf.reshape(y_true, (-1, self.size_output)), dtype=tf.float32)\n",
        "    y_pred_tf = tf.cast(y_pred, dtype=tf.float32)\n",
        "    return tf.keras.losses.CategoricalCrossentropy(from_logits=True)(y_true_tf, y_pred_tf)\n",
        "  \n",
        "  def backward(self, X_train, y_train):\n",
        "    \"\"\"\n",
        "    backward pass\n",
        "    \"\"\"\n",
        "    optimizer = tf.keras.optimizers.SGD(learning_rate=1e-4)\n",
        "    with tf.GradientTape() as tape:\n",
        "      predicted = self.forward(X_train)\n",
        "      current_loss = self.loss(predicted, y_train)\n",
        "    grads = tape.gradient(current_loss, self.variables)\n",
        "    optimizer.apply_gradients(zip(grads, self.variables))\n",
        "\n",
        "\n",
        "\n",
        "  def compute_correct_preds(self, y_pred, y_true):\n",
        "    y_true_tf = tf.cast(tf.reshape(y_true, (-1, self.size_output)), dtype=tf.float32)\n",
        "    y_pred_tf = tf.cast(y_pred, dtype=tf.float32)\n",
        "    correct = []\n",
        "    for i in range(y_pred_tf.shape[0]):\n",
        "        correct.append(tf.argmax(y_pred_tf[i]) == tf.argmax(y_true_tf[i]))\n",
        "    return np.mean(correct)  \n",
        "        \n",
        "        \n",
        "  def compute_output(self, X):\n",
        "    \"\"\"\n",
        "    Custom method to obtain output tensor during forward pass\n",
        "    \"\"\"\n",
        "    # Cast X to float32\n",
        "    X_tf = tf.cast(X, dtype=tf.float32)\n",
        "    #Remember to normalize your dataset before moving forward\n",
        "    # Compute values in hidden layer1\n",
        "    what1 = tf.matmul(X_tf, self.W1) + self.b1\n",
        "    hhat1 = tf.nn.relu(what1)\n",
        "    # Compute values in hidden layer2\n",
        "    what2 = tf.matmul(hhat1, self.W2) + self.b2\n",
        "    hhat2 = tf.nn.relu(what2)\n",
        "    # Compute output\n",
        "    output = tf.matmul(hhat2, self.W3) + self.b3\n",
        "    #Now consider two things , First look at inbuild loss functions if they work with softmax or not and then change this\n",
        "    #Second add tf.Softmax(output) and then return this variable\n",
        "    return output"
      ],
      "execution_count": 39,
      "outputs": []
    },
    {
      "cell_type": "markdown",
      "metadata": {
        "id": "cUDFOuNk618X"
      },
      "source": [
        "## Train Model"
      ]
    },
    {
      "cell_type": "markdown",
      "source": [
        "##Running this model without regularisation 10 times with different seed"
      ],
      "metadata": {
        "id": "fkW_BVsfzCYI"
      }
    },
    {
      "cell_type": "code",
      "source": [
        "NUM_EPOCHS = 10\n"
      ],
      "metadata": {
        "id": "Y0GeHDfe-coD"
      },
      "execution_count": 15,
      "outputs": []
    },
    {
      "cell_type": "markdown",
      "source": [
        "##without regularisation\n"
      ],
      "metadata": {
        "id": "HrBcUi1Nq9FE"
      }
    },
    {
      "cell_type": "code",
      "source": [
        "# Define class to build mlp model\n",
        "class MLP(object):\n",
        "  def __init__(self, size_input, size_hidden, size_output, device=None):\n",
        "    \"\"\"\n",
        "    size_input: int, size of input layer\n",
        "    size_hidden: int, size of hidden layer\n",
        "    size_output: int, size of output layer\n",
        "    device: str or None, either 'cpu' or 'gpu' or None. If None, the device to be used will be decided automatically during Eager Execution\n",
        "    \"\"\"\n",
        "    self.size_input, self.size_hidden,self.size_output, self.device =\\\n",
        "    size_input, size_hidden, size_output, device\n",
        "    \n",
        "    # Initialize weights between input layer and hidden layer-1\n",
        "    self.W1 = tf.Variable(tf.random.normal([self.size_input, self.size_hidden[0]]))\n",
        "    # Initialize biases for hidden layer-1\n",
        "    self.b1 = tf.Variable(tf.random.normal([1, self.size_hidden[0]]))\n",
        "\n",
        "    # Initialize weights between hidden layer-1 and hidden layer-2\n",
        "    self.W2 = tf.Variable(tf.random.normal([self.size_hidden[0], self.size_hidden[1]]))\n",
        "    # Initialize biases for hidden layer-1\n",
        "    self.b2 = tf.Variable(tf.random.normal([1, self.size_hidden[1]]))\n",
        "\n",
        "     # Initialize weights between hidden layer and output layer\n",
        "    self.W3 = tf.Variable(tf.random.normal([self.size_hidden[1], self.size_output]))\n",
        "    # Initialize biases for output layer\n",
        "    self.b3 = tf.Variable(tf.random.normal([1, self.size_output]))\n",
        "    \n",
        "    # Define variables to be updated during backpropagation\n",
        "    self.variables = [self.W1, self.W2, self.W3, self.b1, self.b2, self.b3]\n",
        "    \n",
        "  def forward(self, X):\n",
        "    \"\"\"\n",
        "    forward pass\n",
        "    X: Tensor, inputs\n",
        "    \"\"\"\n",
        "    if self.device is not None:\n",
        "      with tf.device('gpu:0' if self.device=='gpu' else 'cpu'):\n",
        "        self.y = self.compute_output(X)\n",
        "    else:\n",
        "      self.y = self.compute_output(X)\n",
        "      \n",
        "    return self.y\n",
        "\n",
        "  def accuracy(self, y_pred, y_true):\n",
        "    '''\n",
        "    y_pred - Tensor of shape (batch_size, size_output)\n",
        "    y_true - Tensor of shape (batch_size, size_output)\n",
        "    '''\n",
        "    y_true = np.argmax(y_true, axis=-1)\n",
        "    y_pred = np.argmax(y_pred, axis=-1)\n",
        "\n",
        "    # y_true_tf = tf.cast(tf.reshape(y_true, (-1, self.size_output)), dtype=tf.float32)\n",
        "    # y_pred_tf = tf.cast(y_pred, dtype=tf.float32)\n",
        "\n",
        "    # y_true_t = tf.math.argmax(y_true_tf, axis=-1)\n",
        "    # y_pred_t = tf.math.argmax(y_pred_tf, axis=-1)\n",
        "\n",
        "    acc = 0.1*accuracy_score(y_true, y_pred)\n",
        "    return acc \n",
        "  \n",
        "  def loss(self, y_pred, y_true):\n",
        "    '''\n",
        "    y_pred - Tensor of shape (batch_size, size_output)\n",
        "    y_true - Tensor of shape (batch_size, size_output)\n",
        "    '''\n",
        "    y_true_tf = tf.cast(tf.reshape(y_true, (-1, self.size_output)), dtype=tf.float32)\n",
        "    y_pred_tf = tf.cast(y_pred, dtype=tf.float32)\n",
        "    return tf.keras.losses.CategoricalCrossentropy(from_logits=True)(y_true_tf, y_pred_tf)\n",
        "  \n",
        "  def backward(self, X_train, y_train):\n",
        "    \"\"\"\n",
        "    backward pass\n",
        "    \"\"\"\n",
        "    optimizer = tf.keras.optimizers.SGD(learning_rate=1e-4)\n",
        "    with tf.GradientTape() as tape:\n",
        "      predicted = self.forward(X_train)\n",
        "      current_loss = self.loss(predicted, y_train)\n",
        "    grads = tape.gradient(current_loss, self.variables)\n",
        "    optimizer.apply_gradients(zip(grads, self.variables))\n",
        "\n",
        "\n",
        "\n",
        "  def compute_correct_preds(self, y_pred, y_true):\n",
        "    y_true_tf = tf.cast(tf.reshape(y_true, (-1, self.size_output)), dtype=tf.float32)\n",
        "    y_pred_tf = tf.cast(y_pred, dtype=tf.float32)\n",
        "    correct = []\n",
        "    for i in range(y_pred_tf.shape[0]):\n",
        "        correct.append(tf.argmax(y_pred_tf[i]) == tf.argmax(y_true_tf[i]))\n",
        "    return np.mean(correct)  \n",
        "        \n",
        "        \n",
        "  def compute_output(self, X):\n",
        "    \"\"\"\n",
        "    Custom method to obtain output tensor during forward pass\n",
        "    \"\"\"\n",
        "    # Cast X to float32\n",
        "    X_tf = tf.cast(X, dtype=tf.float32)\n",
        "    #Remember to normalize your dataset before moving forward\n",
        "    # Compute values in hidden layer1\n",
        "    what1 = tf.matmul(X_tf, self.W1) + self.b1\n",
        "    hhat1 = tf.nn.relu(what1)\n",
        "    # Compute values in hidden layer2\n",
        "    what2 = tf.matmul(hhat1, self.W2) + self.b2\n",
        "    hhat2 = tf.nn.relu(what2)\n",
        "    # Compute output\n",
        "    output = tf.matmul(hhat2, self.W3) + self.b3\n",
        "    #Now consider two things , First look at inbuild loss functions if they work with softmax or not and then change this\n",
        "    #Second add tf.Softmax(output) and then return this variable\n",
        "    return output"
      ],
      "metadata": {
        "id": "KnXGZxwzhQyz"
      },
      "execution_count": 27,
      "outputs": []
    },
    {
      "cell_type": "code",
      "source": [
        "# Initialize model using CPU\n",
        "mlp_on_cpu = MLP(size_input, size_hidden, size_output, device='cpu')\n",
        "\n",
        "time_start = time.time()\n",
        "for epoch in range(NUM_EPOCHS):\n",
        "  loss_total = tf.zeros([1,1], dtype=tf.float32)\n",
        "  # lt = 0\n",
        "  train_ds = tf.data.Dataset.from_tensor_slices((x_train, y_train)).shuffle(25, seed=epoch*(5647)).batch(64)\n",
        "  correct_preds = tf.constant(0, dtype=tf.float32)\n",
        "  for inputs, outputs in train_ds:\n",
        "    preds = mlp_on_cpu.forward(inputs)\n",
        "    loss_total = loss_total + mlp_on_cpu.loss(preds, outputs)\n",
        "    correct_preds = correct_preds + mlp_on_cpu.accuracy(preds, outputs)\n",
        "    mlp_on_cpu.backward(inputs, outputs)\n",
        "  print('Number of Epoch = {} - Categorical Cross Entropy:= {} - accuracy: {}'.format(epoch + 1, np.sum(loss_total) / x_train.shape[0], correct_preds))\n",
        "\n",
        "\n",
        "time_taken = time.time() - time_start\n",
        "\n",
        "print('\\nTotal time taken (in seconds): {:.2f}'.format(time_taken))\n",
        "#For per epoch_time = Total_Time / Number_of_epochs"
      ],
      "metadata": {
        "colab": {
          "base_uri": "https://localhost:8080/"
        },
        "id": "gvHbEEDfyVPy",
        "outputId": "a3cf22fa-b750-4de1-df77-dd2c3973c66a"
      },
      "execution_count": 28,
      "outputs": [
        {
          "output_type": "stream",
          "name": "stdout",
          "text": [
            "Number of Epoch = 1 - Categorical Cross Entropy:= 3.1395751050420166 - accuracy: 25.0737247467041\n",
            "Number of Epoch = 2 - Categorical Cross Entropy:= 1.4458384978991596 - accuracy: 43.67586898803711\n",
            "Number of Epoch = 3 - Categorical Cross Entropy:= 1.0250117515756303 - accuracy: 51.45920944213867\n",
            "Number of Epoch = 4 - Categorical Cross Entropy:= 0.8174493828781513 - accuracy: 55.89645767211914\n",
            "Number of Epoch = 5 - Categorical Cross Entropy:= 0.6897825630252101 - accuracy: 58.72714614868164\n",
            "Number of Epoch = 6 - Categorical Cross Entropy:= 0.6013463760504202 - accuracy: 60.89672088623047\n",
            "Number of Epoch = 7 - Categorical Cross Entropy:= 0.5358255646008403 - accuracy: 62.47374725341797\n",
            "Number of Epoch = 8 - Categorical Cross Entropy:= 0.484804293592437 - accuracy: 63.68537139892578\n",
            "Number of Epoch = 9 - Categorical Cross Entropy:= 0.4435546546743698 - accuracy: 64.69264221191406\n",
            "Number of Epoch = 10 - Categorical Cross Entropy:= 0.4094128807773109 - accuracy: 65.56449890136719\n",
            "\n",
            "Total time taken (in seconds): 292.63\n"
          ]
        }
      ]
    },
    {
      "cell_type": "code",
      "source": [
        "test_loss_total = tf.Variable(0, dtype=tf.float32)\n",
        "preds = mlp_on_cpu.forward(x_test)\n",
        "  #b = mlp_on_default.loss(preds, outputs)\n",
        "test_loss_total = test_loss_total + mlp_on_cpu.loss(preds, y_test)\n",
        "\n",
        "print('Test Categorical entropy loss: {:.4f}'.format(np.sum(test_loss_total.numpy()) / x_test.shape[0]))\n",
        "\n",
        "\n",
        "maxposition = lambda x : np.argmax(x)\n",
        "  # List comprehension to map the lambda function across all records of yTrue and yPred\n",
        "yTrueMax = np.array([maxposition(rec) for rec in y_test])\n",
        "yPredMax = np.array([maxposition(rec) for rec in preds])\n",
        "val_acc = sum(yPredMax == yTrueMax)/len(yPredMax)\n",
        "print('Test Accuracy: {:.4f}'.format(val_acc*100,\"%\"))"
      ],
      "metadata": {
        "colab": {
          "base_uri": "https://localhost:8080/"
        },
        "id": "J8csB9uujYgE",
        "outputId": "cb27ca36-6861-4d46-8f0d-2e1e54d30945"
      },
      "execution_count": 29,
      "outputs": [
        {
          "output_type": "stream",
          "name": "stdout",
          "text": [
            "Test Categorical entropy loss: 0.0024\n",
            "Test Accuracy: 70.9810\n"
          ]
        }
      ]
    },
    {
      "cell_type": "markdown",
      "source": [
        "## with L1"
      ],
      "metadata": {
        "id": "3x53tmwaj9Mc"
      }
    },
    {
      "cell_type": "code",
      "source": [
        "# Define class to build mlp model\n",
        "class MLP(object):\n",
        "  def __init__(self, size_input, size_hidden, size_output, device=None):\n",
        "    \"\"\"\n",
        "    size_input: int, size of input layer\n",
        "    size_hidden: int, size of hidden layer\n",
        "    size_output: int, size of output layer\n",
        "    device: str or None, either 'cpu' or 'gpu' or None. If None, the device to be used will be decided automatically during Eager Execution\n",
        "    \"\"\"\n",
        "    self.size_input, self.size_hidden,self.size_output, self.device =\\\n",
        "    size_input, size_hidden, size_output, device\n",
        "\n",
        "    # self.dropout_layer = keras.layers.Dropout(rate=0.2)\n",
        "    \n",
        "    # Initialize weights between input layer and hidden layer-1\n",
        "    self.W1 = tf.Variable(tf.random.normal([self.size_input, self.size_hidden[0]]))\n",
        "    # Initialize biases for hidden layer-1\n",
        "    self.b1 = tf.Variable(tf.random.normal([1, self.size_hidden[0]]))\n",
        "\n",
        "    # Initialize weights between hidden layer-1 and hidden layer-2\n",
        "    self.W2 = tf.Variable(tf.random.normal([self.size_hidden[0], self.size_hidden[1]]))\n",
        "    # Initialize biases for hidden layer-1\n",
        "    self.b2 = tf.Variable(tf.random.normal([1, self.size_hidden[1]]))\n",
        "\n",
        "     # Initialize weights between hidden layer and output layer\n",
        "    self.W3 = tf.Variable(tf.random.normal([self.size_hidden[1], self.size_output]))\n",
        "    # Initialize biases for output layer\n",
        "    self.b3 = tf.Variable(tf.random.normal([1, self.size_output]))\n",
        "    \n",
        "    # Define variables to be updated during backpropagation\n",
        "    self.variables = [self.W1, self.W2, self.W3, self.b1, self.b2, self.b3]\n",
        "    \n",
        "  def forward(self, X):\n",
        "    \"\"\"\n",
        "    forward pass\n",
        "    X: Tensor, inputs\n",
        "    \"\"\"\n",
        "    if self.device is not None:\n",
        "      with tf.device('gpu:0' if self.device=='gpu' else 'cpu'):\n",
        "        self.y = self.compute_output(X)\n",
        "    else:\n",
        "      self.y = self.compute_output(X)\n",
        "      \n",
        "    return self.y\n",
        "\n",
        "  def accuracy(self, y_pred, y_true):\n",
        "    '''\n",
        "    y_pred - Tensor of shape (batch_size, size_output)\n",
        "    y_true - Tensor of shape (batch_size, size_output)\n",
        "    '''\n",
        "    y_true = np.argmax(y_true, axis=-1)\n",
        "    y_pred = np.argmax(y_pred, axis=-1)\n",
        "\n",
        "    # y_true_tf = tf.cast(tf.reshape(y_true, (-1, self.size_output)), dtype=tf.float32)\n",
        "    # y_pred_tf = tf.cast(y_pred, dtype=tf.float32)\n",
        "\n",
        "    # y_true_t = tf.math.argmax(y_true_tf, axis=-1)\n",
        "    # y_pred_t = tf.math.argmax(y_pred_tf, axis=-1)\n",
        "\n",
        "    acc = 0.1*accuracy_score(y_true, y_pred)\n",
        "    return acc \n",
        "  \n",
        "  def loss(self, y_pred, y_true):\n",
        "    '''\n",
        "    y_pred - Tensor of shape (batch_size, size_output)\n",
        "    y_true - Tensor of shape (batch_size, size_output)\n",
        "    '''\n",
        "    y_true_tf = tf.cast(tf.reshape(y_true, (-1, self.size_output)), dtype=tf.float32)\n",
        "    y_pred_tf = tf.cast(y_pred, dtype=tf.float32)\n",
        "    return tf.keras.losses.CategoricalCrossentropy(from_logits=True)(y_true_tf, y_pred_tf)\n",
        "  \n",
        "  def backward(self, X_train, y_train):\n",
        "    \"\"\"\n",
        "    backward pass\n",
        "    \"\"\"\n",
        "    \n",
        "\n",
        "    optimizer = tf.keras.optimizers.SGD(learning_rate=1e-4)\n",
        "    with tf.GradientTape() as tape:\n",
        "      predicted = self.forward(X_train)\n",
        "      L1= (tf.reduce_sum(self.W1)+ tf.reduce_sum(self.W2)+tf.reduce_sum(self.W3)) #lasso regression\n",
        "      current_loss = self.loss(predicted, y_train)+ 0.08*L1\n",
        "    grads = tape.gradient(current_loss, self.variables)\n",
        "    optimizer.apply_gradients(zip(grads, self.variables))\n",
        "\n",
        "\n",
        "\n",
        "  def compute_correct_preds(self, y_pred, y_true):\n",
        "    y_true_tf = tf.cast(tf.reshape(y_true, (-1, self.size_output)), dtype=tf.float32)\n",
        "    y_pred_tf = tf.cast(y_pred, dtype=tf.float32)\n",
        "    correct = []\n",
        "    for i in range(y_pred_tf.shape[0]):\n",
        "        correct.append(tf.argmax(y_pred_tf[i]) == tf.argmax(y_true_tf[i]))\n",
        "    return np.mean(correct)  \n",
        "        \n",
        "        \n",
        "  def compute_output(self, X):\n",
        "    \"\"\"\n",
        "    Custom method to obtain output tensor during forward pass\n",
        "    \"\"\"\n",
        "    # Cast X to float32\n",
        "    X_tf = tf.cast(X, dtype=tf.float32)\n",
        "    #Remember to normalize your dataset before moving forward\n",
        "    # Compute values in hidden layer1\n",
        "    what1 = tf.matmul(X_tf, self.W1) + self.b1\n",
        "    hhat1 = tf.nn.relu(what1)\n",
        "    # Compute values in hidden layer2\n",
        "    what2 = tf.matmul(hhat1, self.W2) + self.b2\n",
        "    hhat2 = tf.nn.relu(what2)\n",
        "    # Compute output\n",
        "    output = tf.matmul(hhat2, self.W3) + self.b3\n",
        "    #Now consider two things , First look at inbuild loss functions if they work with softmax or not and then change this\n",
        "    #Second add tf.Softmax(output) and then return this variable\n",
        "    return output"
      ],
      "metadata": {
        "id": "6Lx5wlHFj8mn"
      },
      "execution_count": 30,
      "outputs": []
    },
    {
      "cell_type": "code",
      "source": [
        "# Initialize model using CPU\n",
        "mlp_on_cpu = MLP(size_input, size_hidden, size_output, device='cpu')\n",
        "\n",
        "time_start = time.time()\n",
        "for epoch in range(NUM_EPOCHS):\n",
        "  loss_total = tf.zeros([1,1], dtype=tf.float32)\n",
        "  # lt = 0\n",
        "  train_ds = tf.data.Dataset.from_tensor_slices((x_train, y_train)).shuffle(25, seed=epoch*(2135)).batch(64)\n",
        "  correct_preds = tf.constant(0, dtype=tf.float32)\n",
        "  for inputs, outputs in train_ds:\n",
        "    preds = mlp_on_cpu.forward(inputs)\n",
        "    loss_total = loss_total + mlp_on_cpu.loss(preds, outputs)\n",
        "    # correct_preds = correct_preds + mlp_on_cpu.accuracy(preds, outputs)\n",
        "    mlp_on_cpu.backward(inputs, outputs)\n",
        "    correct_preds = correct_preds + mlp_on_cpu.accuracy(preds, outputs)\n",
        "  print('Number of Epoch = {} - Categorical Cross Entropy:= {} - accuracy: {}'.format(epoch + 1, np.sum(loss_total) / x_train.shape[0], correct_preds))\n",
        "\n",
        "\n",
        "time_taken = time.time() - time_start\n",
        "\n",
        "print('\\nTotal time taken (in seconds): {:.2f}'.format(time_taken))\n",
        "#For per epoch_time = Total_Time / Number_of_epochs"
      ],
      "metadata": {
        "colab": {
          "base_uri": "https://localhost:8080/"
        },
        "id": "avDkc5rj1vJ7",
        "outputId": "ce2ccdb1-79a4-4455-864b-398fb88e5552"
      },
      "execution_count": 31,
      "outputs": [
        {
          "output_type": "stream",
          "name": "stdout",
          "text": [
            "Number of Epoch = 1 - Categorical Cross Entropy:= 3.0689136029411763 - accuracy: 19.816909790039062\n",
            "Number of Epoch = 2 - Categorical Cross Entropy:= 1.344781118697479 - accuracy: 36.30855941772461\n",
            "Number of Epoch = 3 - Categorical Cross Entropy:= 0.8995199579831933 - accuracy: 43.65525817871094\n",
            "Number of Epoch = 4 - Categorical Cross Entropy:= 0.6881598608193278 - accuracy: 47.26934051513672\n",
            "Number of Epoch = 5 - Categorical Cross Entropy:= 0.5592137605042017 - accuracy: 49.44898223876953\n",
            "Number of Epoch = 6 - Categorical Cross Entropy:= 0.47171018251050423 - accuracy: 50.45511245727539\n",
            "Number of Epoch = 7 - Categorical Cross Entropy:= 0.4086355698529412 - accuracy: 50.98565673828125\n",
            "Number of Epoch = 8 - Categorical Cross Entropy:= 0.3608704700630252 - accuracy: 50.757362365722656\n",
            "Number of Epoch = 9 - Categorical Cross Entropy:= 0.32362129070378154 - accuracy: 50.34088134765625\n",
            "Number of Epoch = 10 - Categorical Cross Entropy:= 0.2942300091911765 - accuracy: 49.64289474487305\n",
            "\n",
            "Total time taken (in seconds): 313.16\n"
          ]
        }
      ]
    },
    {
      "cell_type": "code",
      "source": [
        "test_loss_total = tf.Variable(0, dtype=tf.float32)\n",
        "preds = mlp_on_cpu.forward(x_test)\n",
        "  #b = mlp_on_default.loss(preds, outputs)\n",
        "test_loss_total = test_loss_total + mlp_on_cpu.loss(preds, y_test)\n",
        "\n",
        "print('Test Categorical entropy loss: {:.4f}'.format(np.sum(test_loss_total.numpy()) / x_test.shape[0]))\n",
        "maxposition = lambda x : np.argmax(x)\n",
        "  # List comprehension to map the lambda function across all records of yTrue and yPred\n",
        "yTrueMax = np.array([maxposition(rec) for rec in y_test])\n",
        "yPredMax = np.array([maxposition(rec) for rec in preds])\n",
        "val_acc = sum(yPredMax == yTrueMax)/len(yPredMax)\n",
        "print('Test Accuracy: {:.4f}'.format(val_acc*100,\"%\"))"
      ],
      "metadata": {
        "colab": {
          "base_uri": "https://localhost:8080/"
        },
        "id": "oQ4zDO1DoxQK",
        "outputId": "d6fbf43b-8335-48c5-88ac-241d543f1fd1"
      },
      "execution_count": 32,
      "outputs": [
        {
          "output_type": "stream",
          "name": "stdout",
          "text": [
            "Test Categorical entropy loss: 0.0017\n",
            "Test Accuracy: 53.0952\n"
          ]
        }
      ]
    },
    {
      "cell_type": "markdown",
      "source": [
        "##L2 regularisation"
      ],
      "metadata": {
        "id": "kBYIanifutLu"
      }
    },
    {
      "cell_type": "code",
      "source": [
        "# Define class to build mlp model\n",
        "class MLP(object):\n",
        "  def __init__(self, size_input, size_hidden, size_output, device=None):\n",
        "    \"\"\"\n",
        "    size_input: int, size of input layer\n",
        "    size_hidden: int, size of hidden layer\n",
        "    size_output: int, size of output layer\n",
        "    device: str or None, either 'cpu' or 'gpu' or None. If None, the device to be used will be decided automatically during Eager Execution\n",
        "    \"\"\"\n",
        "    self.size_input, self.size_hidden,self.size_output, self.device =\\\n",
        "    size_input, size_hidden, size_output, device\n",
        "\n",
        "    # self.dropout_layer = keras.layers.Dropout(rate=0.2)\n",
        "    \n",
        "    # Initialize weights between input layer and hidden layer-1\n",
        "    self.W1 = tf.Variable(tf.random.normal([self.size_input, self.size_hidden[0]]))\n",
        "    # Initialize biases for hidden layer-1\n",
        "    self.b1 = tf.Variable(tf.random.normal([1, self.size_hidden[0]]))\n",
        "\n",
        "    # Initialize weights between hidden layer-1 and hidden layer-2\n",
        "    self.W2 = tf.Variable(tf.random.normal([self.size_hidden[0], self.size_hidden[1]]))\n",
        "    # Initialize biases for hidden layer-1\n",
        "    self.b2 = tf.Variable(tf.random.normal([1, self.size_hidden[1]]))\n",
        "\n",
        "     # Initialize weights between hidden layer and output layer\n",
        "    self.W3 = tf.Variable(tf.random.normal([self.size_hidden[1], self.size_output]))\n",
        "    # Initialize biases for output layer\n",
        "    self.b3 = tf.Variable(tf.random.normal([1, self.size_output]))\n",
        "    \n",
        "    # Define variables to be updated during backpropagation\n",
        "    self.variables = [self.W1, self.W2, self.W3, self.b1, self.b2, self.b3]\n",
        "    \n",
        "  def forward(self, X):\n",
        "    \"\"\"\n",
        "    forward pass\n",
        "    X: Tensor, inputs\n",
        "    \"\"\"\n",
        "    if self.device is not None:\n",
        "      with tf.device('gpu:0' if self.device=='gpu' else 'cpu'):\n",
        "        self.y = self.compute_output(X)\n",
        "    else:\n",
        "      self.y = self.compute_output(X)\n",
        "      \n",
        "    return self.y\n",
        "\n",
        "  def accuracy(self, y_pred, y_true):\n",
        "    '''\n",
        "    y_pred - Tensor of shape (batch_size, size_output)\n",
        "    y_true - Tensor of shape (batch_size, size_output)\n",
        "    '''\n",
        "    y_true = np.argmax(y_true, axis=-1)\n",
        "    y_pred = np.argmax(y_pred, axis=-1)\n",
        "\n",
        "    # y_true_tf = tf.cast(tf.reshape(y_true, (-1, self.size_output)), dtype=tf.float32)\n",
        "    # y_pred_tf = tf.cast(y_pred, dtype=tf.float32)\n",
        "\n",
        "    # y_true_t = tf.math.argmax(y_true_tf, axis=-1)\n",
        "    # y_pred_t = tf.math.argmax(y_pred_tf, axis=-1)\n",
        "\n",
        "    acc = 0.1*accuracy_score(y_true, y_pred)\n",
        "    return acc \n",
        "  \n",
        "  def loss(self, y_pred, y_true):\n",
        "    '''\n",
        "    y_pred - Tensor of shape (batch_size, size_output)\n",
        "    y_true - Tensor of shape (batch_size, size_output)\n",
        "    '''\n",
        "    y_true_tf = tf.cast(tf.reshape(y_true, (-1, self.size_output)), dtype=tf.float32)\n",
        "    y_pred_tf = tf.cast(y_pred, dtype=tf.float32)\n",
        "    return tf.keras.losses.CategoricalCrossentropy(from_logits=True)(y_true_tf, y_pred_tf)\n",
        "  \n",
        "  def backward(self, X_train, y_train):\n",
        "    \"\"\"\n",
        "    backward pass\n",
        "    \"\"\"    \n",
        "    optimizer = tf.keras.optimizers.SGD(learning_rate=1e-4)\n",
        "    with tf.GradientTape() as tape:\n",
        "      predicted = self.forward(X_train)\n",
        "      L2=(tf.reduce_sum(tf.square(self.W1)) + tf.reduce_sum(tf.square(self.W2))\\\n",
        "+ tf.reduce_sum(tf.square(self.W3)))/3.0  #L2 Regularization\n",
        "      current_loss = self.loss(predicted, y_train)+ 0.05*L2\n",
        "    grads = tape.gradient(current_loss, self.variables)\n",
        "    optimizer.apply_gradients(zip(grads, self.variables))\n",
        "\n",
        "\n",
        "\n",
        "  def compute_correct_preds(self, y_pred, y_true):\n",
        "    y_true_tf = tf.cast(tf.reshape(y_true, (-1, self.size_output)), dtype=tf.float32)\n",
        "    y_pred_tf = tf.cast(y_pred, dtype=tf.float32)\n",
        "    correct = []\n",
        "    for i in range(y_pred_tf.shape[0]):\n",
        "        correct.append(tf.argmax(y_pred_tf[i]) == tf.argmax(y_true_tf[i]))\n",
        "    return np.mean(correct)  \n",
        "        \n",
        "        \n",
        "  def compute_output(self, X):\n",
        "    \"\"\"\n",
        "    Custom method to obtain output tensor during forward pass\n",
        "    \"\"\"\n",
        "    # Cast X to float32\n",
        "    X_tf = tf.cast(X, dtype=tf.float32)\n",
        "    #Remember to normalize your dataset before moving forward\n",
        "    # Compute values in hidden layer1\n",
        "    what1 = tf.matmul(X_tf, self.W1) + self.b1\n",
        "    hhat1 = tf.nn.relu(what1)\n",
        "    # Compute values in hidden layer2\n",
        "    what2 = tf.matmul(hhat1, self.W2) + self.b2\n",
        "    hhat2 = tf.nn.relu(what2)\n",
        "    # Compute output\n",
        "    output = tf.matmul(hhat2, self.W3) + self.b3\n",
        "    #Now consider two things , First look at inbuild loss functions if they work with softmax or not and then change this\n",
        "    #Second add tf.Softmax(output) and then return this variable\n",
        "    return output"
      ],
      "metadata": {
        "id": "XUEjNr5Bpa2U"
      },
      "execution_count": 12,
      "outputs": []
    },
    {
      "cell_type": "code",
      "source": [
        "# Initialize model using CPU\n",
        "mlp_on_cpu = MLP(size_input, size_hidden, size_output, device='cpu')\n",
        "\n",
        "time_start = time.time()\n",
        "for epoch in range(NUM_EPOCHS):\n",
        "  loss_total = tf.zeros([1,1], dtype=tf.float32)\n",
        "  # lt = 0\n",
        "  train_ds = tf.data.Dataset.from_tensor_slices((x_train, y_train)).shuffle(25, seed=epoch*(5053)).batch(64)\n",
        "  correct_preds = tf.constant(0, dtype=tf.float32)\n",
        "  for inputs, outputs in train_ds:\n",
        "    preds = mlp_on_cpu.forward(inputs)\n",
        "    loss_total = loss_total + mlp_on_cpu.loss(preds, outputs)\n",
        "    # correct_preds = correct_preds + mlp_on_cpu.accuracy(preds, outputs)\n",
        "    mlp_on_cpu.backward(inputs, outputs)\n",
        "    correct_preds = correct_preds + mlp_on_cpu.accuracy(preds, outputs)\n",
        "  print('Number of Epoch = {} - Categorical Cross Entropy:= {} - accuracy: {}'.format(epoch + 1, np.sum(loss_total) / x_train.shape[0], correct_preds))\n",
        "\n",
        "\n",
        "time_taken = time.time() - time_start\n",
        "\n",
        "print('\\nTotal time taken (in seconds): {:.2f}'.format(time_taken))\n",
        "#For per epoch_time = Total_Time / Number_of_epochs"
      ],
      "metadata": {
        "colab": {
          "base_uri": "https://localhost:8080/"
        },
        "id": "_lyA9JMltHBq",
        "outputId": "dee4bc24-a5c1-4a92-fc2c-053592018029"
      },
      "execution_count": 17,
      "outputs": [
        {
          "output_type": "stream",
          "name": "stdout",
          "text": [
            "Number of Epoch = 1 - Categorical Cross Entropy:= 2.7979726890756305 - accuracy: 22.531112670898438\n",
            "Number of Epoch = 2 - Categorical Cross Entropy:= 1.2550563287815126 - accuracy: 39.32699966430664\n",
            "Number of Epoch = 3 - Categorical Cross Entropy:= 0.879578256302521 - accuracy: 47.339080810546875\n",
            "Number of Epoch = 4 - Categorical Cross Entropy:= 0.6950107011554622 - accuracy: 52.0139045715332\n",
            "Number of Epoch = 5 - Categorical Cross Entropy:= 0.5803020614495799 - accuracy: 55.20613098144531\n",
            "Number of Epoch = 6 - Categorical Cross Entropy:= 0.5004878545168068 - accuracy: 57.41677474975586\n",
            "Number of Epoch = 7 - Categorical Cross Entropy:= 0.4411460084033613 - accuracy: 59.231689453125\n",
            "Number of Epoch = 8 - Categorical Cross Entropy:= 0.395167574842437 - accuracy: 60.616661071777344\n",
            "Number of Epoch = 9 - Categorical Cross Entropy:= 0.35838826155462183 - accuracy: 61.74320602416992\n",
            "Number of Epoch = 10 - Categorical Cross Entropy:= 0.3280394235819328 - accuracy: 62.64802551269531\n",
            "\n",
            "Total time taken (in seconds): 175.31\n"
          ]
        }
      ]
    },
    {
      "cell_type": "code",
      "source": [
        "test_loss_total = tf.Variable(0, dtype=tf.float32)\n",
        "preds = mlp_on_cpu.forward(x_test)\n",
        "  #b = mlp_on_default.loss(preds, outputs)\n",
        "test_loss_total = test_loss_total + mlp_on_cpu.loss(preds, y_test)\n",
        "\n",
        "print('Test Categorical entropy loss: {:.4f}'.format(np.sum(test_loss_total.numpy()) / x_test.shape[0]))\n",
        "maxposition = lambda x : np.argmax(x)\n",
        "  # List comprehension to map the lambda function across all records of yTrue and yPred\n",
        "yTrueMax = np.array([maxposition(rec) for rec in y_test])\n",
        "yPredMax = np.array([maxposition(rec) for rec in preds])\n",
        "val_acc = sum(yPredMax == yTrueMax)/len(yPredMax)\n",
        "print('Test Accuracy: {:.4f}'.format(val_acc*100,\"%\"))"
      ],
      "metadata": {
        "colab": {
          "base_uri": "https://localhost:8080/"
        },
        "id": "3S4dRiciug0C",
        "outputId": "41ffdd9d-76cc-42d1-d07b-8c3eae37da49"
      },
      "execution_count": 35,
      "outputs": [
        {
          "output_type": "stream",
          "name": "stdout",
          "text": [
            "Test Categorical entropy loss: 0.0021\n",
            "Test Accuracy: 60.3333\n"
          ]
        }
      ]
    },
    {
      "cell_type": "markdown",
      "source": [
        "dropout and L2"
      ],
      "metadata": {
        "id": "aOLOxts22B9f"
      }
    },
    {
      "cell_type": "code",
      "source": [
        "# Define class to build mlp model\n",
        "class MLP(object):\n",
        "  def __init__(self, size_input, size_hidden, size_output, device=None):\n",
        "    \"\"\"\n",
        "    size_input: int, size of input layer\n",
        "    size_hidden: int, size of hidden layer\n",
        "    size_output: int, size of output layer\n",
        "    device: str or None, either 'cpu' or 'gpu' or None. If None, the device to be used will be decided automatically during Eager Execution\n",
        "    \"\"\"\n",
        "    self.size_input, self.size_hidden,self.size_output, self.device =\\\n",
        "    size_input, size_hidden, size_output, device\n",
        "\n",
        "    self.dropout_layer = keras.layers.Dropout(rate=0.2)\n",
        "    \n",
        "    # Initialize weights between input layer and hidden layer-1\n",
        "    self.W1 = tf.Variable(tf.random.normal([self.size_input, self.size_hidden[0]]))\n",
        "    # Initialize biases for hidden layer-1\n",
        "    self.b1 = tf.Variable(tf.random.normal([1, self.size_hidden[0]]))\n",
        "\n",
        "    # Initialize weights between hidden layer-1 and hidden layer-2\n",
        "    self.W2 = tf.Variable(tf.random.normal([self.size_hidden[0], self.size_hidden[1]]))\n",
        "    # Initialize biases for hidden layer-1\n",
        "    self.b2 = tf.Variable(tf.random.normal([1, self.size_hidden[1]]))\n",
        "\n",
        "     # Initialize weights between hidden layer and output layer\n",
        "    self.W3 = tf.Variable(tf.random.normal([self.size_hidden[1], self.size_output]))\n",
        "    # Initialize biases for output layer\n",
        "    self.b3 = tf.Variable(tf.random.normal([1, self.size_output]))\n",
        "    \n",
        "    # Define variables to be updated during backpropagation\n",
        "    self.variables = [self.W1, self.W2, self.W3, self.b1, self.b2, self.b3]\n",
        "    \n",
        "  def forward(self, X):\n",
        "    \"\"\"\n",
        "    forward pass\n",
        "    X: Tensor, inputs\n",
        "    \"\"\"\n",
        "    if self.device is not None:\n",
        "      with tf.device('gpu:0' if self.device=='gpu' else 'cpu'):\n",
        "        self.y = self.compute_output(X)\n",
        "    else:\n",
        "      self.y = self.compute_output(X)\n",
        "      \n",
        "    return self.y\n",
        "\n",
        "  def accuracy(self, y_pred, y_true):\n",
        "    '''\n",
        "    y_pred - Tensor of shape (batch_size, size_output)\n",
        "    y_true - Tensor of shape (batch_size, size_output)\n",
        "    '''\n",
        "    y_true = np.argmax(y_true, axis=-1)\n",
        "    y_pred = np.argmax(y_pred, axis=-1)\n",
        "\n",
        "    # y_true_tf = tf.cast(tf.reshape(y_true, (-1, self.size_output)), dtype=tf.float32)\n",
        "    # y_pred_tf = tf.cast(y_pred, dtype=tf.float32)\n",
        "\n",
        "    # y_true_t = tf.math.argmax(y_true_tf, axis=-1)\n",
        "    # y_pred_t = tf.math.argmax(y_pred_tf, axis=-1)\n",
        "\n",
        "    acc = 0.1*accuracy_score(y_true, y_pred)\n",
        "    return acc \n",
        "  \n",
        "  def loss(self, y_pred, y_true):\n",
        "    '''\n",
        "    y_pred - Tensor of shape (batch_size, size_output)\n",
        "    y_true - Tensor of shape (batch_size, size_output)\n",
        "    '''\n",
        "    y_true_tf = tf.cast(tf.reshape(y_true, (-1, self.size_output)), dtype=tf.float32)\n",
        "    y_pred_tf = tf.cast(y_pred, dtype=tf.float32)\n",
        "    return tf.keras.losses.CategoricalCrossentropy(from_logits=True)(y_true_tf, y_pred_tf)\n",
        "  \n",
        "  def backward(self, X_train, y_train):\n",
        "    \"\"\"\n",
        "    backward pass\n",
        "    \"\"\"    \n",
        "    optimizer = tf.keras.optimizers.SGD(learning_rate=1e-4)\n",
        "    with tf.GradientTape() as tape:\n",
        "      predicted = self.forward(X_train)\n",
        "      L2=(tf.reduce_sum(tf.square(self.W1)) + tf.reduce_sum(tf.square(self.W2))\\\n",
        "+ tf.reduce_sum(tf.square(self.W3)))/3.0  #L2 Regularization\n",
        "      current_loss = self.loss(predicted, y_train)+ 0.05*L2\n",
        "    grads = tape.gradient(current_loss, self.variables)\n",
        "    optimizer.apply_gradients(zip(grads, self.variables))\n",
        "\n",
        "\n",
        "\n",
        "  def compute_correct_preds(self, y_pred, y_true):\n",
        "    y_true_tf = tf.cast(tf.reshape(y_true, (-1, self.size_output)), dtype=tf.float32)\n",
        "    y_pred_tf = tf.cast(y_pred, dtype=tf.float32)\n",
        "    correct = []\n",
        "    for i in range(y_pred_tf.shape[0]):\n",
        "        correct.append(tf.argmax(y_pred_tf[i]) == tf.argmax(y_true_tf[i]))\n",
        "    return np.mean(correct)  \n",
        "        \n",
        "        \n",
        "  def compute_output(self, X):\n",
        "    \"\"\"\n",
        "    Custom method to obtain output tensor during forward pass\n",
        "    \"\"\"\n",
        "    # Cast X to float32\n",
        "    X_tf = tf.cast(X, dtype=tf.float32)\n",
        "\n",
        "    #Remember to normalize your dataset before moving forward\n",
        "    # Compute values in hidden layer1\n",
        "    what1 = tf.matmul(X_tf, self.W1) + self.b1\n",
        "    hhat1 = tf.nn.relu(what1)\n",
        "    hhat1 = self.dropout_layer(hhat1)\n",
        "    # Compute values in hidden layer2\n",
        "    what2 = tf.matmul(hhat1, self.W2) + self.b2\n",
        "    hhat2 = tf.nn.relu(what2)\n",
        "    hhat2 = self.dropout_layer(hhat2)\n",
        "\n",
        "    # Compute output\n",
        "    output = tf.matmul(hhat2, self.W3) + self.b3\n",
        "    #Now consider two things , First look at inbuild loss functions if they work with softmax or not and then change this\n",
        "    #Second add tf.Softmax(output) and then return this variable\n",
        "    return output"
      ],
      "metadata": {
        "id": "6wASi7pu0HN8"
      },
      "execution_count": 18,
      "outputs": []
    },
    {
      "cell_type": "code",
      "source": [
        "# Initialize model using CPU\n",
        "mlp_on_cpu = MLP(size_input, size_hidden, size_output, device='cpu')\n",
        "\n",
        "time_start = time.time()\n",
        "for epoch in range(NUM_EPOCHS):\n",
        "  loss_total = tf.zeros([1,1], dtype=tf.float32)\n",
        "  # lt = 0\n",
        "  train_ds = tf.data.Dataset.from_tensor_slices((x_train, y_train)).shuffle(25, seed=epoch*(5052)).batch(64)\n",
        "  correct_preds = tf.constant(0, dtype=tf.float32)\n",
        "  for inputs, outputs in train_ds:\n",
        "    preds = mlp_on_cpu.forward(inputs)\n",
        "    loss_total = loss_total + mlp_on_cpu.loss(preds, outputs)\n",
        "    # correct_preds = correct_preds + mlp_on_cpu.accuracy(preds, outputs)\n",
        "    mlp_on_cpu.backward(inputs, outputs)\n",
        "    correct_preds = correct_preds + mlp_on_cpu.accuracy(preds, outputs)\n",
        "  print('Number of Epoch = {} - Categorical Cross Entropy:= {} - accuracy: {}'.format(epoch + 1, np.sum(loss_total) / x_train.shape[0], correct_preds))\n",
        "\n",
        "\n",
        "time_taken = time.time() - time_start\n",
        "\n",
        "print('\\nTotal time taken (in seconds): {:.2f}'.format(time_taken))\n",
        "#For per epoch_time = Total_Time / Number_of_epochs"
      ],
      "metadata": {
        "colab": {
          "base_uri": "https://localhost:8080/"
        },
        "id": "YdxymrSSvfZs",
        "outputId": "94e8e79a-f5df-4be8-fa1f-3ce8e54d869e"
      },
      "execution_count": 26,
      "outputs": [
        {
          "output_type": "stream",
          "name": "stdout",
          "text": [
            "Number of Epoch = 1 - Categorical Cross Entropy:= 3.12915887605042 - accuracy: 25.061222076416016\n",
            "Number of Epoch = 2 - Categorical Cross Entropy:= 1.428186974789916 - accuracy: 43.63083267211914\n",
            "Number of Epoch = 3 - Categorical Cross Entropy:= 1.0041516544117648 - accuracy: 51.39716720581055\n",
            "Number of Epoch = 4 - Categorical Cross Entropy:= 0.7941912421218488 - accuracy: 55.806793212890625\n",
            "Number of Epoch = 5 - Categorical Cross Entropy:= 0.6645251444327731 - accuracy: 58.66518020629883\n",
            "Number of Epoch = 6 - Categorical Cross Entropy:= 0.574577205882353 - accuracy: 60.802669525146484\n",
            "Number of Epoch = 7 - Categorical Cross Entropy:= 0.5078742121848739 - accuracy: 62.39247131347656\n",
            "Number of Epoch = 8 - Categorical Cross Entropy:= 0.45575817358193277 - accuracy: 63.59729766845703\n",
            "Number of Epoch = 9 - Categorical Cross Entropy:= 0.4136430869222689 - accuracy: 64.5597915649414\n",
            "Number of Epoch = 10 - Categorical Cross Entropy:= 0.3785862329306723 - accuracy: 65.43932342529297\n",
            "\n",
            "Total time taken (in seconds): 171.98\n"
          ]
        }
      ]
    },
    {
      "cell_type": "code",
      "source": [
        "test_loss_total = tf.Variable(0, dtype=tf.float32)\n",
        "preds = mlp_on_cpu.forward(x_test)\n",
        "  #b = mlp_on_default.loss(preds, outputs)\n",
        "test_loss_total = test_loss_total + mlp_on_cpu.loss(preds, y_test)\n",
        "\n",
        "print('Test Categorical entropy loss: {:.4f}'.format(np.sum(test_loss_total.numpy()) / x_test.shape[0]))\n",
        "maxposition = lambda x : np.argmax(x)\n",
        "  # List comprehension to map the lambda function across all records of yTrue and yPred\n",
        "yTrueMax = np.array([maxposition(rec) for rec in y_test])\n",
        "yPredMax = np.array([maxposition(rec) for rec in preds])\n",
        "val_acc = sum(yPredMax == yTrueMax)/len(yPredMax)\n",
        "print('Test Accuracy: {:.4f}'.format(val_acc*100,\"%\"))"
      ],
      "metadata": {
        "colab": {
          "base_uri": "https://localhost:8080/"
        },
        "id": "D0Y7gmUA2mjx",
        "outputId": "7ee4b84f-d6ba-41ec-96b0-58d4321506c6"
      },
      "execution_count": 27,
      "outputs": [
        {
          "output_type": "stream",
          "name": "stdout",
          "text": [
            "Test Categorical entropy loss: 0.0022\n",
            "Test Accuracy: 70.8476\n"
          ]
        }
      ]
    },
    {
      "cell_type": "code",
      "source": [
        "# Define class to build mlp model\n",
        "class MLP(object):\n",
        "  def __init__(self, size_input, size_hidden, size_output, device=None):\n",
        "    \"\"\"\n",
        "    size_input: int, size of input layer\n",
        "    size_hidden: int, size of hidden layer\n",
        "    size_output: int, size of output layer\n",
        "    device: str or None, either 'cpu' or 'gpu' or None. If None, the device to be used will be decided automatically during Eager Execution\n",
        "    \"\"\"\n",
        "    self.size_input, self.size_hidden,self.size_output, self.device =\\\n",
        "    size_input, size_hidden, size_output, device\n",
        "\n",
        "    self.dropout_layer = keras.layers.Dropout(rate=0.2)\n",
        "    \n",
        "    # Initialize weights between input layer and hidden layer-1\n",
        "    self.W1 = tf.Variable(tf.random.normal([self.size_input, self.size_hidden[0]]))\n",
        "    # Initialize biases for hidden layer-1\n",
        "    self.b1 = tf.Variable(tf.random.normal([1, self.size_hidden[0]]))\n",
        "\n",
        "    # Initialize weights between hidden layer-1 and hidden layer-2\n",
        "    self.W2 = tf.Variable(tf.random.normal([self.size_hidden[0], self.size_hidden[1]]))\n",
        "    # Initialize biases for hidden layer-1\n",
        "    self.b2 = tf.Variable(tf.random.normal([1, self.size_hidden[1]]))\n",
        "\n",
        "     # Initialize weights between hidden layer and output layer\n",
        "    self.W3 = tf.Variable(tf.random.normal([self.size_hidden[1], self.size_output]))\n",
        "    # Initialize biases for output layer\n",
        "    self.b3 = tf.Variable(tf.random.normal([1, self.size_output]))\n",
        "    \n",
        "    # Define variables to be updated during backpropagation\n",
        "    self.variables = [self.W1, self.W2, self.W3, self.b1, self.b2, self.b3]\n",
        "    \n",
        "  def forward(self, X):\n",
        "    \"\"\"\n",
        "    forward pass\n",
        "    X: Tensor, inputs\n",
        "    \"\"\"\n",
        "    if self.device is not None:\n",
        "      with tf.device('gpu:0' if self.device=='gpu' else 'cpu'):\n",
        "        self.y = self.compute_output(X)\n",
        "    else:\n",
        "      self.y = self.compute_output(X)\n",
        "      \n",
        "    return self.y\n",
        "\n",
        "  def accuracy(self, y_pred, y_true):\n",
        "    '''\n",
        "    y_pred - Tensor of shape (batch_size, size_output)\n",
        "    y_true - Tensor of shape (batch_size, size_output)\n",
        "    '''\n",
        "    y_true = np.argmax(y_true, axis=-1)\n",
        "    y_pred = np.argmax(y_pred, axis=-1)\n",
        "\n",
        "    # y_true_tf = tf.cast(tf.reshape(y_true, (-1, self.size_output)), dtype=tf.float32)\n",
        "    # y_pred_tf = tf.cast(y_pred, dtype=tf.float32)\n",
        "\n",
        "    # y_true_t = tf.math.argmax(y_true_tf, axis=-1)\n",
        "    # y_pred_t = tf.math.argmax(y_pred_tf, axis=-1)\n",
        "\n",
        "    acc = 0.1*accuracy_score(y_true, y_pred)\n",
        "    return acc \n",
        "  \n",
        "  def loss(self, y_pred, y_true):\n",
        "    '''\n",
        "    y_pred - Tensor of shape (batch_size, size_output)\n",
        "    y_true - Tensor of shape (batch_size, size_output)\n",
        "    '''\n",
        "    y_true_tf = tf.cast(tf.reshape(y_true, (-1, self.size_output)), dtype=tf.float32)\n",
        "    y_pred_tf = tf.cast(y_pred, dtype=tf.float32)\n",
        "    return tf.keras.losses.CategoricalCrossentropy(from_logits=True)(y_true_tf, y_pred_tf)\n",
        "  \n",
        "  def backward(self, X_train, y_train):\n",
        "    \"\"\"\n",
        "    backward pass\n",
        "    \"\"\"    \n",
        "    optimizer = tf.keras.optimizers.SGD(learning_rate=1e-4)\n",
        "    with tf.GradientTape() as tape:\n",
        "      predicted = self.forward(X_train)\n",
        "      L2=(tf.reduce_sum(tf.square(self.W1)) + tf.reduce_sum(tf.square(self.W2))\\\n",
        "+ tf.reduce_sum(tf.square(self.W3)))/3.0  #L2 Regularization\n",
        "      # L1= (tf.reduce_sum(self.W1)+ tf.reduce_sum(self.W2)+tf.reduce_sum(self.W3))\n",
        "\n",
        "      current_loss = self.loss(predicted, y_train)+ 0.05*L2\n",
        "    grads = tape.gradient(current_loss, self.variables)\n",
        "    optimizer.apply_gradients(zip(grads, self.variables))\n",
        "\n",
        "\n",
        "\n",
        "  def compute_correct_preds(self, y_pred, y_true):\n",
        "    y_true_tf = tf.cast(tf.reshape(y_true, (-1, self.size_output)), dtype=tf.float32)\n",
        "    y_pred_tf = tf.cast(y_pred, dtype=tf.float32)\n",
        "    correct = []\n",
        "    for i in range(y_pred_tf.shape[0]):\n",
        "        correct.append(tf.argmax(y_pred_tf[i]) == tf.argmax(y_true_tf[i]))\n",
        "    return np.mean(correct)  \n",
        "        \n",
        "        \n",
        "  def compute_output(self, X):\n",
        "    \"\"\"\n",
        "    Custom method to obtain output tensor during forward pass\n",
        "    \"\"\"\n",
        "    # Cast X to float32\n",
        "    X_tf = tf.cast(X, dtype=tf.float32)\n",
        "\n",
        "    #Remember to normalize your dataset before moving forward\n",
        "    # Compute values in hidden layer1\n",
        "    what1 = tf.matmul(X_tf, self.W1) + self.b1\n",
        "    hhat1 = tf.nn.relu(what1)\n",
        "    hhat1 = self.dropout_layer(hhat1)\n",
        "    # Compute values in hidden layer2\n",
        "    what2 = tf.matmul(hhat1, self.W2) + self.b2\n",
        "    hhat2 = tf.nn.relu(what2)\n",
        "    hhat2 = self.dropout_layer(hhat2)\n",
        "\n",
        "    # Compute output\n",
        "    output = tf.matmul(hhat2, self.W3) + self.b3\n",
        "    # output=  tf.nn.softmax(output)\n",
        "    #Now consider two things , First look at inbuild loss functions if they work with softmax or not and then change this\n",
        "    #Second add tf.Softmax(output) and then return this variable\n",
        "    return output"
      ],
      "metadata": {
        "id": "5T5y87FV2Qdv"
      },
      "execution_count": 64,
      "outputs": []
    },
    {
      "cell_type": "code",
      "source": [
        "NUM_EPOCHS=20"
      ],
      "metadata": {
        "id": "gT6wt9lF4Oag"
      },
      "execution_count": 53,
      "outputs": []
    },
    {
      "cell_type": "code",
      "source": [
        "# Initialize model using CPU\n",
        "mlp_on_cpu = MLP(size_input, size_hidden, size_output, device='cpu')\n",
        "\n",
        "time_start = time.time()\n",
        "for epoch in range(NUM_EPOCHS):\n",
        "  loss_total = tf.zeros([1,1], dtype=tf.float32)\n",
        "  # lt = 0\n",
        "  train_ds = tf.data.Dataset.from_tensor_slices((x_train, y_train)).shuffle(25, seed=epoch*(5052)).batch(64)\n",
        "  correct_preds = tf.constant(0, dtype=tf.float32)\n",
        "  for inputs, outputs in train_ds:\n",
        "    preds = mlp_on_cpu.forward(inputs)\n",
        "    loss_total = loss_total + mlp_on_cpu.loss(preds, outputs)\n",
        "    # correct_preds = correct_preds + mlp_on_cpu.accuracy(preds, outputs)\n",
        "    mlp_on_cpu.backward(inputs, outputs)\n",
        "    correct_preds = correct_preds + mlp_on_cpu.accuracy(preds, outputs)\n",
        "  print('Number of Epoch = {} - Categorical Cross Entropy:= {} - accuracy: {}'.format(epoch + 1, np.sum(loss_total) / x_train.shape[0], correct_preds))\n",
        "\n",
        "\n",
        "time_taken = time.time() - time_start\n",
        "\n",
        "print('\\nTotal time taken (in seconds): {:.2f}'.format(time_taken))\n",
        "#For per epoch_time = Total_Time / Number_of_epochs"
      ],
      "metadata": {
        "colab": {
          "base_uri": "https://localhost:8080/"
        },
        "id": "XJewMuo-2Qb8",
        "outputId": "a1453d7c-da29-4d93-8f11-e9bc7c91af92"
      },
      "execution_count": 54,
      "outputs": [
        {
          "output_type": "stream",
          "name": "stdout",
          "text": [
            "Number of Epoch = 1 - Categorical Cross Entropy:= 3.300918067226891 - accuracy: 25.174848556518555\n",
            "Number of Epoch = 2 - Categorical Cross Entropy:= 1.5383253676470587 - accuracy: 43.44686508178711\n",
            "Number of Epoch = 3 - Categorical Cross Entropy:= 1.1019515493697478 - accuracy: 51.508514404296875\n",
            "Number of Epoch = 4 - Categorical Cross Entropy:= 0.8807383797268907 - accuracy: 56.09531021118164\n",
            "Number of Epoch = 5 - Categorical Cross Entropy:= 0.7430614495798319 - accuracy: 59.181095123291016\n",
            "Number of Epoch = 6 - Categorical Cross Entropy:= 0.6478314075630253 - accuracy: 61.43337631225586\n",
            "Number of Epoch = 7 - Categorical Cross Entropy:= 0.5771987263655463 - accuracy: 63.163818359375\n",
            "Number of Epoch = 8 - Categorical Cross Entropy:= 0.522320049894958 - accuracy: 64.52714538574219\n",
            "Number of Epoch = 9 - Categorical Cross Entropy:= 0.4780256368172269 - accuracy: 65.6704330444336\n",
            "Number of Epoch = 10 - Categorical Cross Entropy:= 0.4415176601890756 - accuracy: 66.63609313964844\n",
            "Number of Epoch = 11 - Categorical Cross Entropy:= 0.4104906118697479 - accuracy: 67.43143463134766\n",
            "Number of Epoch = 12 - Categorical Cross Entropy:= 0.3836458442752101 - accuracy: 68.14164733886719\n",
            "Number of Epoch = 13 - Categorical Cross Entropy:= 0.36010707720588236 - accuracy: 68.68534088134766\n",
            "Number of Epoch = 14 - Categorical Cross Entropy:= 0.3392532825630252 - accuracy: 69.18933868408203\n",
            "Number of Epoch = 15 - Categorical Cross Entropy:= 0.3206168264180672 - accuracy: 69.67052459716797\n",
            "Number of Epoch = 16 - Categorical Cross Entropy:= 0.3039157037815126 - accuracy: 70.1181869506836\n",
            "Number of Epoch = 17 - Categorical Cross Entropy:= 0.28881821165966387 - accuracy: 70.5783462524414\n",
            "Number of Epoch = 18 - Categorical Cross Entropy:= 0.27491237198004204 - accuracy: 70.90933990478516\n",
            "Number of Epoch = 19 - Categorical Cross Entropy:= 0.2621665244222689 - accuracy: 71.2369384765625\n",
            "Number of Epoch = 20 - Categorical Cross Entropy:= 0.2503812040441176 - accuracy: 71.51663970947266\n",
            "\n",
            "Total time taken (in seconds): 638.09\n"
          ]
        }
      ]
    },
    {
      "cell_type": "code",
      "source": [
        "test_loss_total = tf.Variable(0, dtype=tf.float32)\n",
        "preds = mlp_on_cpu.forward(x_test)\n",
        "  #b = mlp_on_default.loss(preds, outputs)\n",
        "test_loss_total = test_loss_total + mlp_on_cpu.loss(preds, y_test)\n",
        "\n",
        "print('Test Categorical entropy loss: {:.4f}'.format(np.sum(test_loss_total.numpy()) / x_test.shape[0]))\n",
        "maxposition = lambda x : np.argmax(x)\n",
        "  # List comprehension to map the lambda function across all records of yTrue and yPred\n",
        "yTrueMax = np.array([maxposition(rec) for rec in y_test])\n",
        "yPredMax = np.array([maxposition(rec) for rec in preds])\n",
        "val_acc = sum(yPredMax == yTrueMax)/len(yPredMax)\n",
        "print('Test Accuracy: {:.4f}'.format(val_acc*100,\"%\"))"
      ],
      "metadata": {
        "colab": {
          "base_uri": "https://localhost:8080/"
        },
        "id": "VN6RWgL12QaR",
        "outputId": "852a3c16-d52d-4949-c388-c2c64746410b"
      },
      "execution_count": 55,
      "outputs": [
        {
          "output_type": "stream",
          "name": "stdout",
          "text": [
            "Test Categorical entropy loss: 0.0016\n",
            "Test Accuracy: 76.3048\n"
          ]
        }
      ]
    },
    {
      "cell_type": "code",
      "source": [
        "# Initialize model using CPU\n",
        "mlp_on_cpu = MLP(size_input, size_hidden, size_output, device='cpu')\n",
        "\n",
        "time_start = time.time()\n",
        "for epoch in range(NUM_EPOCHS):\n",
        "  loss_total = tf.zeros([1,1], dtype=tf.float32)\n",
        "  # lt = 0\n",
        "  train_ds = tf.data.Dataset.from_tensor_slices((x_train, y_train)).shuffle(25, seed=epoch*(1234)).batch(64)\n",
        "  correct_preds = tf.constant(0, dtype=tf.float32)\n",
        "  for inputs, outputs in train_ds:\n",
        "    preds = mlp_on_cpu.forward(inputs)\n",
        "    loss_total = loss_total + mlp_on_cpu.loss(preds, outputs)\n",
        "    # correct_preds = correct_preds + mlp_on_cpu.accuracy(preds, outputs)\n",
        "    mlp_on_cpu.backward(inputs, outputs)\n",
        "    correct_preds = correct_preds + mlp_on_cpu.accuracy(preds, outputs)\n",
        "  print('Number of Epoch = {} - Categorical Cross Entropy:= {} - accuracy: {}'.format(epoch + 1, np.sum(loss_total) / x_train.shape[0], correct_preds))\n",
        "\n",
        "\n",
        "time_taken = time.time() - time_start\n",
        "\n",
        "print('\\nTotal time taken (in seconds): {:.2f}'.format(time_taken))\n",
        "#For per epoch_time = Total_Time / Number_of_epochs"
      ],
      "metadata": {
        "colab": {
          "base_uri": "https://localhost:8080/"
        },
        "id": "wVLFt_tx2QRu",
        "outputId": "2d24cfc4-2857-45c1-8241-bdb9aca6af35"
      },
      "execution_count": 65,
      "outputs": [
        {
          "output_type": "stream",
          "name": "stdout",
          "text": [
            "Number of Epoch = 1 - Categorical Cross Entropy:= 3.151113182773109 - accuracy: 21.94361114501953\n",
            "Number of Epoch = 2 - Categorical Cross Entropy:= 1.4414266018907562 - accuracy: 40.0103874206543\n",
            "Number of Epoch = 3 - Categorical Cross Entropy:= 0.9975117515756302 - accuracy: 48.72641372680664\n",
            "Number of Epoch = 4 - Categorical Cross Entropy:= 0.7817564338235294 - accuracy: 53.813232421875\n",
            "Number of Epoch = 5 - Categorical Cross Entropy:= 0.6499432773109244 - accuracy: 57.06222152709961\n",
            "Number of Epoch = 6 - Categorical Cross Entropy:= 0.5598379070378151 - accuracy: 59.441349029541016\n",
            "Number of Epoch = 7 - Categorical Cross Entropy:= 0.49384791885504203 - accuracy: 61.393341064453125\n",
            "Number of Epoch = 8 - Categorical Cross Entropy:= 0.44318582589285715 - accuracy: 62.693511962890625\n",
            "Number of Epoch = 9 - Categorical Cross Entropy:= 0.40267542016806723 - accuracy: 63.830108642578125\n",
            "Number of Epoch = 10 - Categorical Cross Entropy:= 0.36933560924369746 - accuracy: 64.80890655517578\n",
            "Number of Epoch = 11 - Categorical Cross Entropy:= 0.3412357536764706 - accuracy: 65.63692474365234\n",
            "Number of Epoch = 12 - Categorical Cross Entropy:= 0.31723069852941177 - accuracy: 66.38241577148438\n",
            "Number of Epoch = 13 - Categorical Cross Entropy:= 0.2964337907037815 - accuracy: 66.8808822631836\n",
            "Number of Epoch = 14 - Categorical Cross Entropy:= 0.27817972032563026 - accuracy: 67.43480682373047\n",
            "Number of Epoch = 15 - Categorical Cross Entropy:= 0.2620175124737395 - accuracy: 67.91127014160156\n",
            "Number of Epoch = 16 - Categorical Cross Entropy:= 0.24752862394957983 - accuracy: 68.34871673583984\n",
            "Number of Epoch = 17 - Categorical Cross Entropy:= 0.23443326549369747 - accuracy: 68.7167739868164\n",
            "Number of Epoch = 18 - Categorical Cross Entropy:= 0.22249517463235294 - accuracy: 69.00878143310547\n",
            "Number of Epoch = 19 - Categorical Cross Entropy:= 0.21163254989495797 - accuracy: 69.28780364990234\n",
            "Number of Epoch = 20 - Categorical Cross Entropy:= 0.20164417016806724 - accuracy: 69.61128997802734\n",
            "\n",
            "Total time taken (in seconds): 663.12\n"
          ]
        }
      ]
    },
    {
      "cell_type": "code",
      "source": [
        "test_loss_total = tf.Variable(0, dtype=tf.float32)\n",
        "preds = mlp_on_cpu.forward(x_test)\n",
        "  #b = mlp_on_default.loss(preds, outputs)\n",
        "test_loss_total = test_loss_total + mlp_on_cpu.loss(preds, y_test)\n",
        "\n",
        "print('Test Categorical entropy loss: {:.4f}'.format(np.sum(test_loss_total.numpy()) / x_test.shape[0]))\n",
        "maxposition = lambda x : np.argmax(x)\n",
        "  # List comprehension to map the lambda function across all records of yTrue and yPred\n",
        "yTrueMax = np.array([maxposition(rec) for rec in y_test])\n",
        "yPredMax = np.array([maxposition(rec) for rec in preds])\n",
        "val_acc = sum(yPredMax == yTrueMax)/len(yPredMax)\n",
        "print('Test Accuracy: {:.4f}'.format(val_acc*100,\"%\"))"
      ],
      "metadata": {
        "colab": {
          "base_uri": "https://localhost:8080/"
        },
        "id": "eNSFgAqcvfXV",
        "outputId": "571851a3-f62e-45c7-d8d3-816ba08eb6ce"
      },
      "execution_count": 67,
      "outputs": [
        {
          "output_type": "stream",
          "name": "stdout",
          "text": [
            "Test Categorical entropy loss: 0.0012\n",
            "Test Accuracy: 74.9238\n"
          ]
        }
      ]
    },
    {
      "cell_type": "markdown",
      "source": [
        "##adam + dropout + L2 + 20epochs\n",
        "\n",
        "\n",
        "\n"
      ],
      "metadata": {
        "id": "_bj5ROZCCbRU"
      }
    },
    {
      "cell_type": "code",
      "source": [
        "# Define class to build mlp model\n",
        "class MLP(object):\n",
        "  def __init__(self, size_input, size_hidden, size_output, device=None):\n",
        "    \"\"\"\n",
        "    size_input: int, size of input layer\n",
        "    size_hidden: int, size of hidden layer\n",
        "    size_output: int, size of output layer\n",
        "    device: str or None, either 'cpu' or 'gpu' or None. If None, the device to be used will be decided automatically during Eager Execution\n",
        "    \"\"\"\n",
        "    self.size_input, self.size_hidden,self.size_output, self.device =\\\n",
        "    size_input, size_hidden, size_output, device\n",
        "\n",
        "    self.dropout_layer = keras.layers.Dropout(rate=0.2)\n",
        "    \n",
        "    # Initialize weights between input layer and hidden layer-1\n",
        "    self.W1 = tf.Variable(tf.random.normal([self.size_input, self.size_hidden[0]]))\n",
        "    # Initialize biases for hidden layer-1\n",
        "    self.b1 = tf.Variable(tf.random.normal([1, self.size_hidden[0]]))\n",
        "\n",
        "    # Initialize weights between hidden layer-1 and hidden layer-2\n",
        "    self.W2 = tf.Variable(tf.random.normal([self.size_hidden[0], self.size_hidden[1]]))\n",
        "    # Initialize biases for hidden layer-1\n",
        "    self.b2 = tf.Variable(tf.random.normal([1, self.size_hidden[1]]))\n",
        "\n",
        "     # Initialize weights between hidden layer and output layer\n",
        "    self.W3 = tf.Variable(tf.random.normal([self.size_hidden[1], self.size_output]))\n",
        "    # Initialize biases for output layer\n",
        "    self.b3 = tf.Variable(tf.random.normal([1, self.size_output]))\n",
        "    \n",
        "    # Define variables to be updated during backpropagation\n",
        "    self.variables = [self.W1, self.W2, self.W3, self.b1, self.b2, self.b3]\n",
        "    \n",
        "  def forward(self, X):\n",
        "    \"\"\"\n",
        "    forward pass\n",
        "    X: Tensor, inputs\n",
        "    \"\"\"\n",
        "    if self.device is not None:\n",
        "      with tf.device('gpu:0' if self.device=='gpu' else 'cpu'):\n",
        "        self.y = self.compute_output(X)\n",
        "    else:\n",
        "      self.y = self.compute_output(X)\n",
        "      \n",
        "    return self.y\n",
        "\n",
        "  def accuracy(self, y_pred, y_true):\n",
        "    '''\n",
        "    y_pred - Tensor of shape (batch_size, size_output)\n",
        "    y_true - Tensor of shape (batch_size, size_output)\n",
        "    '''\n",
        "    y_true = np.argmax(y_true, axis=-1)\n",
        "    y_pred = np.argmax(y_pred, axis=-1)\n",
        "\n",
        "    # y_true_tf = tf.cast(tf.reshape(y_true, (-1, self.size_output)), dtype=tf.float32)\n",
        "    # y_pred_tf = tf.cast(y_pred, dtype=tf.float32)\n",
        "\n",
        "    # y_true_t = tf.math.argmax(y_true_tf, axis=-1)\n",
        "    # y_pred_t = tf.math.argmax(y_pred_tf, axis=-1)\n",
        "\n",
        "    acc = 0.1*accuracy_score(y_true, y_pred)\n",
        "    return acc \n",
        "  \n",
        "  def loss(self, y_pred, y_true):\n",
        "    '''\n",
        "    y_pred - Tensor of shape (batch_size, size_output)\n",
        "    y_true - Tensor of shape (batch_size, size_output)\n",
        "    '''\n",
        "    y_true_tf = tf.cast(tf.reshape(y_true, (-1, self.size_output)), dtype=tf.float32)\n",
        "    y_pred_tf = tf.cast(y_pred, dtype=tf.float32)\n",
        "    return tf.keras.losses.CategoricalCrossentropy(from_logits=True)(y_true_tf, y_pred_tf)\n",
        "  \n",
        "  def backward(self, X_train, y_train):\n",
        "    \"\"\"\n",
        "    backward pass\n",
        "    \"\"\"    \n",
        "    optimizer = tf.keras.optimizers.Adam(learning_rate=1e-4)\n",
        "    with tf.GradientTape() as tape:\n",
        "      predicted = self.forward(X_train)\n",
        "      L2=(tf.reduce_sum(tf.square(self.W1)) + tf.reduce_sum(tf.square(self.W2))\\\n",
        "+ tf.reduce_sum(tf.square(self.W3)))/3.0  #L2 Regularization\n",
        "      # L1= (tf.reduce_sum(self.W1)+ tf.reduce_sum(self.W2)+tf.reduce_sum(self.W3))\n",
        "\n",
        "      current_loss = self.loss(predicted, y_train)+ 0.05*L2\n",
        "    grads = tape.gradient(current_loss, self.variables)\n",
        "    optimizer.apply_gradients(zip(grads, self.variables))\n",
        "\n",
        "\n",
        "\n",
        "  def compute_correct_preds(self, y_pred, y_true):\n",
        "    y_true_tf = tf.cast(tf.reshape(y_true, (-1, self.size_output)), dtype=tf.float32)\n",
        "    y_pred_tf = tf.cast(y_pred, dtype=tf.float32)\n",
        "    correct = []\n",
        "    for i in range(y_pred_tf.shape[0]):\n",
        "        correct.append(tf.argmax(y_pred_tf[i]) == tf.argmax(y_true_tf[i]))\n",
        "    return np.mean(correct)  \n",
        "        \n",
        "        \n",
        "  def compute_output(self, X):\n",
        "    \"\"\"\n",
        "    Custom method to obtain output tensor during forward pass\n",
        "    \"\"\"\n",
        "    # Cast X to float32\n",
        "    X_tf = tf.cast(X, dtype=tf.float32)\n",
        "\n",
        "    #Remember to normalize your dataset before moving forward\n",
        "    # Compute values in hidden layer1\n",
        "    what1 = tf.matmul(X_tf, self.W1) + self.b1\n",
        "    hhat1 = tf.nn.relu(what1)\n",
        "    hhat1 = self.dropout_layer(hhat1)\n",
        "    # Compute values in hidden layer2\n",
        "    what2 = tf.matmul(hhat1, self.W2) + self.b2\n",
        "    hhat2 = tf.nn.relu(what2)\n",
        "    hhat2 = self.dropout_layer(hhat2)\n",
        "\n",
        "    # Compute output\n",
        "    output = tf.matmul(hhat2, self.W3) + self.b3\n",
        "    # output=  tf.nn.softmax(output)\n",
        "    #Now consider two things , First look at inbuild loss functions if they work with softmax or not and then change this\n",
        "    #Second add tf.Softmax(output) and then return this variable\n",
        "    return output"
      ],
      "metadata": {
        "id": "LogSl7qvvfVm"
      },
      "execution_count": 68,
      "outputs": []
    },
    {
      "cell_type": "code",
      "source": [
        "# Initialize model using CPU\n",
        "mlp_on_cpu = MLP(size_input, size_hidden, size_output, device='cpu')\n",
        "\n",
        "time_start = time.time()\n",
        "for epoch in range(NUM_EPOCHS):\n",
        "  loss_total = tf.zeros([1,1], dtype=tf.float32)\n",
        "  # lt = 0\n",
        "  train_ds = tf.data.Dataset.from_tensor_slices((x_train, y_train)).shuffle(25, seed=epoch*(1234)).batch(64)\n",
        "  correct_preds = tf.constant(0, dtype=tf.float32)\n",
        "  for inputs, outputs in train_ds:\n",
        "    preds = mlp_on_cpu.forward(inputs)\n",
        "    loss_total = loss_total + mlp_on_cpu.loss(preds, outputs)\n",
        "    # correct_preds = correct_preds + mlp_on_cpu.accuracy(preds, outputs)\n",
        "    mlp_on_cpu.backward(inputs, outputs)\n",
        "    correct_preds = correct_preds + mlp_on_cpu.accuracy(preds, outputs)\n",
        "  print('Number of Epoch = {} - Categorical Cross Entropy:= {} - accuracy: {}'.format(epoch + 1, np.sum(loss_total) / x_train.shape[0], correct_preds))\n",
        "\n",
        "\n",
        "time_taken = time.time() - time_start\n",
        "\n",
        "print('\\nTotal time taken (in seconds): {:.2f}'.format(time_taken))\n",
        "#For per epoch_time = Total_Time / Number_of_epochs"
      ],
      "metadata": {
        "colab": {
          "base_uri": "https://localhost:8080/"
        },
        "id": "F2llyvSavfTb",
        "outputId": "a74a730d-1ec7-46cb-e132-9ee6f165cda1"
      },
      "execution_count": 69,
      "outputs": [
        {
          "output_type": "stream",
          "name": "stdout",
          "text": [
            "Number of Epoch = 1 - Categorical Cross Entropy:= 2.935300945378151 - accuracy: 27.560091018676758\n",
            "Number of Epoch = 2 - Categorical Cross Entropy:= 1.0541473214285715 - accuracy: 51.966041564941406\n",
            "Number of Epoch = 3 - Categorical Cross Entropy:= 0.6887385766806723 - accuracy: 61.45254898071289\n",
            "Number of Epoch = 4 - Categorical Cross Entropy:= 0.5221702665441177 - accuracy: 66.25068664550781\n",
            "Number of Epoch = 5 - Categorical Cross Entropy:= 0.4199053637079832 - accuracy: 69.22969055175781\n",
            "Number of Epoch = 6 - Categorical Cross Entropy:= 0.34881666885504203 - accuracy: 71.32286071777344\n",
            "Number of Epoch = 7 - Categorical Cross Entropy:= 0.2957212119222689 - accuracy: 72.88422393798828\n",
            "Number of Epoch = 8 - Categorical Cross Entropy:= 0.2538384814863445 - accuracy: 73.99596405029297\n",
            "Number of Epoch = 9 - Categorical Cross Entropy:= 0.2193883600315126 - accuracy: 74.99038696289062\n",
            "Number of Epoch = 10 - Categorical Cross Entropy:= 0.19037760963760506 - accuracy: 75.77001190185547\n",
            "Number of Epoch = 11 - Categorical Cross Entropy:= 0.16592397584033614 - accuracy: 76.43484497070312\n",
            "Number of Epoch = 12 - Categorical Cross Entropy:= 0.14495127035189076 - accuracy: 76.8967514038086\n",
            "Number of Epoch = 13 - Categorical Cross Entropy:= 0.12679337907037816 - accuracy: 77.29119873046875\n",
            "Number of Epoch = 14 - Categorical Cross Entropy:= 0.11079966517857143 - accuracy: 77.7083969116211\n",
            "Number of Epoch = 15 - Categorical Cross Entropy:= 0.09678051962972689 - accuracy: 77.99014282226562\n",
            "Number of Epoch = 16 - Categorical Cross Entropy:= 0.08454992778361345 - accuracy: 78.33645629882812\n",
            "Number of Epoch = 17 - Categorical Cross Entropy:= 0.07378536961659664 - accuracy: 78.48096466064453\n",
            "Number of Epoch = 18 - Categorical Cross Entropy:= 0.06424071034663865 - accuracy: 78.58706665039062\n",
            "Number of Epoch = 19 - Categorical Cross Entropy:= 0.05582617597820378 - accuracy: 78.75215148925781\n",
            "Number of Epoch = 20 - Categorical Cross Entropy:= 0.048396939830619747 - accuracy: 78.77240753173828\n",
            "\n",
            "Total time taken (in seconds): 920.42\n"
          ]
        }
      ]
    },
    {
      "cell_type": "code",
      "source": [
        "test_loss_total = tf.Variable(0, dtype=tf.float32)\n",
        "preds = mlp_on_cpu.forward(x_test)\n",
        "  #b = mlp_on_default.loss(preds, outputs)\n",
        "test_loss_total = test_loss_total + mlp_on_cpu.loss(preds, y_test)\n",
        "\n",
        "print('Test Categorical entropy loss: {:.4f}'.format(np.sum(test_loss_total.numpy()) / x_test.shape[0]))\n",
        "maxposition = lambda x : np.argmax(x)\n",
        "  # List comprehension to map the lambda function across all records of yTrue and yPred\n",
        "yTrueMax = np.array([maxposition(rec) for rec in y_test])\n",
        "yPredMax = np.array([maxposition(rec) for rec in preds])\n",
        "val_acc = sum(yPredMax == yTrueMax)/(yPredMax.shape[0])\n",
        "print('Test Accuracy: {:.4f}'.format(val_acc*100,\"%\"))"
      ],
      "metadata": {
        "colab": {
          "base_uri": "https://localhost:8080/"
        },
        "id": "3VKn-vU_vfRK",
        "outputId": "203fd044-4cf3-4e89-ccd1-f3305a84368e"
      },
      "execution_count": 72,
      "outputs": [
        {
          "output_type": "stream",
          "name": "stdout",
          "text": [
            "Test Categorical entropy loss: 0.0003\n",
            "Test Accuracy: 84.1143\n"
          ]
        }
      ]
    },
    {
      "cell_type": "markdown",
      "source": [
        "##For MNIST fashion dataset"
      ],
      "metadata": {
        "id": "77FdoRUKIR_9"
      }
    },
    {
      "cell_type": "code",
      "source": [
        "x, y = fetch_openml('Fashion-MNIST', version=1, return_X_y=True)\n",
        "x = (x/255).astype('float32')\n",
        "y = to_categorical(y)"
      ],
      "metadata": {
        "id": "BQoKJz47vfOc"
      },
      "execution_count": 74,
      "outputs": []
    },
    {
      "cell_type": "code",
      "source": [
        "x_train, x_test, y_train, y_test = train_test_split(x, y, test_size=0.15, random_state=42)"
      ],
      "metadata": {
        "id": "xFF8DZ4NvfL_"
      },
      "execution_count": 75,
      "outputs": []
    },
    {
      "cell_type": "code",
      "source": [
        "size_input = 784\n",
        "size_hidden = [128,64]\n",
        "size_output = 10\n",
        "number_of_train_examples = 59500\n",
        "number_of_test_examples = 9500"
      ],
      "metadata": {
        "id": "aYrx5575CkMd"
      },
      "execution_count": 76,
      "outputs": []
    },
    {
      "cell_type": "code",
      "source": [
        "# Split dataset into batches\n",
        "train_ds = tf.data.Dataset.from_tensor_slices((x_train, y_train)).batch(16)\n",
        "test_ds = tf.data.Dataset.from_tensor_slices((x_test, y_test)).batch(4)"
      ],
      "metadata": {
        "id": "pz1OqC5OCkKk"
      },
      "execution_count": 77,
      "outputs": []
    },
    {
      "cell_type": "markdown",
      "source": [
        "##without regularisation "
      ],
      "metadata": {
        "id": "OpIPhIAjKkuC"
      }
    },
    {
      "cell_type": "code",
      "source": [
        "# Define class to build mlp model\n",
        "class MLP(object):\n",
        "  def __init__(self, size_input, size_hidden, size_output, device=None):\n",
        "    \"\"\"\n",
        "    size_input: int, size of input layer\n",
        "    size_hidden: int, size of hidden layer\n",
        "    size_output: int, size of output layer\n",
        "    device: str or None, either 'cpu' or 'gpu' or None. If None, the device to be used will be decided automatically during Eager Execution\n",
        "    \"\"\"\n",
        "    self.size_input, self.size_hidden,self.size_output, self.device =\\\n",
        "    size_input, size_hidden, size_output, device\n",
        "    \n",
        "    # Initialize weights between input layer and hidden layer-1\n",
        "    self.W1 = tf.Variable(tf.random.normal([self.size_input, self.size_hidden[0]]))\n",
        "    # Initialize biases for hidden layer-1\n",
        "    self.b1 = tf.Variable(tf.random.normal([1, self.size_hidden[0]]))\n",
        "\n",
        "    # Initialize weights between hidden layer-1 and hidden layer-2\n",
        "    self.W2 = tf.Variable(tf.random.normal([self.size_hidden[0], self.size_hidden[1]]))\n",
        "    # Initialize biases for hidden layer-1\n",
        "    self.b2 = tf.Variable(tf.random.normal([1, self.size_hidden[1]]))\n",
        "\n",
        "     # Initialize weights between hidden layer and output layer\n",
        "    self.W3 = tf.Variable(tf.random.normal([self.size_hidden[1], self.size_output]))\n",
        "    # Initialize biases for output layer\n",
        "    self.b3 = tf.Variable(tf.random.normal([1, self.size_output]))\n",
        "    \n",
        "    # Define variables to be updated during backpropagation\n",
        "    self.variables = [self.W1, self.W2, self.W3, self.b1, self.b2, self.b3]\n",
        "    \n",
        "  def forward(self, X):\n",
        "    \"\"\"\n",
        "    forward pass\n",
        "    X: Tensor, inputs\n",
        "    \"\"\"\n",
        "    if self.device is not None:\n",
        "      with tf.device('gpu:0' if self.device=='gpu' else 'cpu'):\n",
        "        self.y = self.compute_output(X)\n",
        "    else:\n",
        "      self.y = self.compute_output(X)\n",
        "      \n",
        "    return self.y\n",
        "\n",
        "  def accuracy(self, y_pred, y_true):\n",
        "    '''\n",
        "    y_pred - Tensor of shape (batch_size, size_output)\n",
        "    y_true - Tensor of shape (batch_size, size_output)\n",
        "    '''\n",
        "    y_true = np.argmax(y_true, axis=-1)\n",
        "    y_pred = np.argmax(y_pred, axis=-1)\n",
        "\n",
        "    # y_true_tf = tf.cast(tf.reshape(y_true, (-1, self.size_output)), dtype=tf.float32)\n",
        "    # y_pred_tf = tf.cast(y_pred, dtype=tf.float32)\n",
        "\n",
        "    # y_true_t = tf.math.argmax(y_true_tf, axis=-1)\n",
        "    # y_pred_t = tf.math.argmax(y_pred_tf, axis=-1)\n",
        "\n",
        "    acc = 0.1*accuracy_score(y_true, y_pred)\n",
        "    return acc \n",
        "  \n",
        "  def loss(self, y_pred, y_true):\n",
        "    '''\n",
        "    y_pred - Tensor of shape (batch_size, size_output)\n",
        "    y_true - Tensor of shape (batch_size, size_output)\n",
        "    '''\n",
        "    y_true_tf = tf.cast(tf.reshape(y_true, (-1, self.size_output)), dtype=tf.float32)\n",
        "    y_pred_tf = tf.cast(y_pred, dtype=tf.float32)\n",
        "    return tf.keras.losses.CategoricalCrossentropy(from_logits=True)(y_true_tf, y_pred_tf)\n",
        "  \n",
        "  def backward(self, X_train, y_train):\n",
        "    \"\"\"\n",
        "    backward pass\n",
        "    \"\"\"\n",
        "    optimizer = tf.keras.optimizers.SGD(learning_rate=1e-4)\n",
        "    with tf.GradientTape() as tape:\n",
        "      predicted = self.forward(X_train)\n",
        "      current_loss = self.loss(predicted, y_train)\n",
        "    grads = tape.gradient(current_loss, self.variables)\n",
        "    optimizer.apply_gradients(zip(grads, self.variables))\n",
        "\n",
        "\n",
        "\n",
        "  def compute_correct_preds(self, y_pred, y_true):\n",
        "    y_true_tf = tf.cast(tf.reshape(y_true, (-1, self.size_output)), dtype=tf.float32)\n",
        "    y_pred_tf = tf.cast(y_pred, dtype=tf.float32)\n",
        "    correct = []\n",
        "    for i in range(y_pred_tf.shape[0]):\n",
        "        correct.append(tf.argmax(y_pred_tf[i]) == tf.argmax(y_true_tf[i]))\n",
        "    return np.mean(correct)  \n",
        "        \n",
        "        \n",
        "  def compute_output(self, X):\n",
        "    \"\"\"\n",
        "    Custom method to obtain output tensor during forward pass\n",
        "    \"\"\"\n",
        "    # Cast X to float32\n",
        "    X_tf = tf.cast(X, dtype=tf.float32)\n",
        "    #Remember to normalize your dataset before moving forward\n",
        "    # Compute values in hidden layer1\n",
        "    what1 = tf.matmul(X_tf, self.W1) + self.b1\n",
        "    hhat1 = tf.nn.relu(what1)\n",
        "    # Compute values in hidden layer2\n",
        "    what2 = tf.matmul(hhat1, self.W2) + self.b2\n",
        "    hhat2 = tf.nn.relu(what2)\n",
        "    # Compute output\n",
        "    output = tf.matmul(hhat2, self.W3) + self.b3\n",
        "    #Now consider two things , First look at inbuild loss functions if they work with softmax or not and then change this\n",
        "    #Second add tf.Softmax(output) and then return this variable\n",
        "    return output"
      ],
      "metadata": {
        "id": "bWf-0OxKCkIQ"
      },
      "execution_count": 78,
      "outputs": []
    },
    {
      "cell_type": "code",
      "source": [
        "NUM_EPOCHS=10"
      ],
      "metadata": {
        "id": "tlSzowI4Kzip"
      },
      "execution_count": 80,
      "outputs": []
    },
    {
      "cell_type": "code",
      "source": [
        "# Initialize model using CPU\n",
        "mlp_on_cpu = MLP(size_input, size_hidden, size_output, device='cpu')\n",
        "\n",
        "time_start = time.time()\n",
        "for epoch in range(NUM_EPOCHS):\n",
        "  loss_total = tf.zeros([1,1], dtype=tf.float32)\n",
        "  # lt = 0\n",
        "  train_ds = tf.data.Dataset.from_tensor_slices((x_train, y_train)).shuffle(25, seed=epoch*(5647)).batch(64)\n",
        "  correct_preds = tf.constant(0, dtype=tf.float32)\n",
        "  for inputs, outputs in train_ds:\n",
        "    preds = mlp_on_cpu.forward(inputs)\n",
        "    loss_total = loss_total + mlp_on_cpu.loss(preds, outputs)\n",
        "    correct_preds = correct_preds + mlp_on_cpu.accuracy(preds, outputs)\n",
        "    mlp_on_cpu.backward(inputs, outputs)\n",
        "  print('Number of Epoch = {} - Categorical Cross Entropy:= {} - accuracy: {}'.format(epoch + 1, np.sum(loss_total) / x_train.shape[0], correct_preds))\n",
        "\n",
        "\n",
        "time_taken = time.time() - time_start\n",
        "\n",
        "print('\\nTotal time taken (in seconds): {:.2f}'.format(time_taken))\n",
        "#For per epoch_time = Total_Time / Number_of_epochs"
      ],
      "metadata": {
        "colab": {
          "base_uri": "https://localhost:8080/"
        },
        "id": "x2NGguPKCkGD",
        "outputId": "40ed28e6-0328-4c26-f494-de1b916b66d1"
      },
      "execution_count": 81,
      "outputs": [
        {
          "output_type": "stream",
          "name": "stdout",
          "text": [
            "Number of Epoch = 1 - Categorical Cross Entropy:= 2.594418855042017 - accuracy: 33.51433563232422\n",
            "Number of Epoch = 2 - Categorical Cross Entropy:= 1.073673713235294 - accuracy: 49.68817901611328\n",
            "Number of Epoch = 3 - Categorical Cross Entropy:= 0.7893897058823529 - accuracy: 54.84105682373047\n",
            "Number of Epoch = 4 - Categorical Cross Entropy:= 0.6423022584033613 - accuracy: 57.92373275756836\n",
            "Number of Epoch = 5 - Categorical Cross Entropy:= 0.5524031643907563 - accuracy: 59.89958572387695\n",
            "Number of Epoch = 6 - Categorical Cross Entropy:= 0.49047022715336136 - accuracy: 61.330101013183594\n",
            "Number of Epoch = 7 - Categorical Cross Entropy:= 0.44415503545168067 - accuracy: 62.269134521484375\n",
            "Number of Epoch = 8 - Categorical Cross Entropy:= 0.4073125 - accuracy: 62.96989059448242\n",
            "Number of Epoch = 9 - Categorical Cross Entropy:= 0.37726962972689077 - accuracy: 63.5167121887207\n",
            "Number of Epoch = 10 - Categorical Cross Entropy:= 0.3518142069327731 - accuracy: 63.95026779174805\n",
            "\n",
            "Total time taken (in seconds): 288.88\n"
          ]
        }
      ]
    },
    {
      "cell_type": "code",
      "source": [
        "test_loss_total = tf.Variable(0, dtype=tf.float32)\n",
        "preds = mlp_on_cpu.forward(x_test)\n",
        "  #b = mlp_on_default.loss(preds, outputs)\n",
        "test_loss_total = test_loss_total + mlp_on_cpu.loss(preds, y_test)\n",
        "\n",
        "print('Test Categorical entropy loss: {:.4f}'.format(np.sum(test_loss_total.numpy()) / x_test.shape[0]))\n",
        "\n",
        "\n",
        "maxposition = lambda x : np.argmax(x)\n",
        "  # List comprehension to map the lambda function across all records of yTrue and yPred\n",
        "yTrueMax = np.array([maxposition(rec) for rec in y_test])\n",
        "yPredMax = np.array([maxposition(rec) for rec in preds])\n",
        "val_acc = sum(yPredMax == yTrueMax)/len(yPredMax)\n",
        "print('Test Accuracy: {:.4f}'.format(val_acc*100,\"%\"))"
      ],
      "metadata": {
        "colab": {
          "base_uri": "https://localhost:8080/"
        },
        "id": "CTFcAewzCkDl",
        "outputId": "4ad02d3e-70e3-4581-d794-9f1c620225fe"
      },
      "execution_count": 82,
      "outputs": [
        {
          "output_type": "stream",
          "name": "stdout",
          "text": [
            "Test Categorical entropy loss: 0.0022\n",
            "Test Accuracy: 68.5714\n"
          ]
        }
      ]
    },
    {
      "cell_type": "markdown",
      "source": [
        "##L1 regularisation"
      ],
      "metadata": {
        "id": "tSH4CtzWOHkX"
      }
    },
    {
      "cell_type": "code",
      "source": [
        "# Define class to build mlp model\n",
        "class MLP(object):\n",
        "  def __init__(self, size_input, size_hidden, size_output, device=None):\n",
        "    \"\"\"\n",
        "    size_input: int, size of input layer\n",
        "    size_hidden: int, size of hidden layer\n",
        "    size_output: int, size of output layer\n",
        "    device: str or None, either 'cpu' or 'gpu' or None. If None, the device to be used will be decided automatically during Eager Execution\n",
        "    \"\"\"\n",
        "    self.size_input, self.size_hidden,self.size_output, self.device =\\\n",
        "    size_input, size_hidden, size_output, device\n",
        "\n",
        "    # self.dropout_layer = keras.layers.Dropout(rate=0.2)\n",
        "    \n",
        "    # Initialize weights between input layer and hidden layer-1\n",
        "    self.W1 = tf.Variable(tf.random.normal([self.size_input, self.size_hidden[0]]))\n",
        "    # Initialize biases for hidden layer-1\n",
        "    self.b1 = tf.Variable(tf.random.normal([1, self.size_hidden[0]]))\n",
        "\n",
        "    # Initialize weights between hidden layer-1 and hidden layer-2\n",
        "    self.W2 = tf.Variable(tf.random.normal([self.size_hidden[0], self.size_hidden[1]]))\n",
        "    # Initialize biases for hidden layer-1\n",
        "    self.b2 = tf.Variable(tf.random.normal([1, self.size_hidden[1]]))\n",
        "\n",
        "     # Initialize weights between hidden layer and output layer\n",
        "    self.W3 = tf.Variable(tf.random.normal([self.size_hidden[1], self.size_output]))\n",
        "    # Initialize biases for output layer\n",
        "    self.b3 = tf.Variable(tf.random.normal([1, self.size_output]))\n",
        "    \n",
        "    # Define variables to be updated during backpropagation\n",
        "    self.variables = [self.W1, self.W2, self.W3, self.b1, self.b2, self.b3]\n",
        "    \n",
        "  def forward(self, X):\n",
        "    \"\"\"\n",
        "    forward pass\n",
        "    X: Tensor, inputs\n",
        "    \"\"\"\n",
        "    if self.device is not None:\n",
        "      with tf.device('gpu:0' if self.device=='gpu' else 'cpu'):\n",
        "        self.y = self.compute_output(X)\n",
        "    else:\n",
        "      self.y = self.compute_output(X)\n",
        "      \n",
        "    return self.y\n",
        "\n",
        "  def accuracy(self, y_pred, y_true):\n",
        "    '''\n",
        "    y_pred - Tensor of shape (batch_size, size_output)\n",
        "    y_true - Tensor of shape (batch_size, size_output)\n",
        "    '''\n",
        "    y_true = np.argmax(y_true, axis=-1)\n",
        "    y_pred = np.argmax(y_pred, axis=-1)\n",
        "\n",
        "    # y_true_tf = tf.cast(tf.reshape(y_true, (-1, self.size_output)), dtype=tf.float32)\n",
        "    # y_pred_tf = tf.cast(y_pred, dtype=tf.float32)\n",
        "\n",
        "    # y_true_t = tf.math.argmax(y_true_tf, axis=-1)\n",
        "    # y_pred_t = tf.math.argmax(y_pred_tf, axis=-1)\n",
        "\n",
        "    acc = 0.1*accuracy_score(y_true, y_pred)\n",
        "    return acc \n",
        "  \n",
        "  def loss(self, y_pred, y_true):\n",
        "    '''\n",
        "    y_pred - Tensor of shape (batch_size, size_output)\n",
        "    y_true - Tensor of shape (batch_size, size_output)\n",
        "    '''\n",
        "    y_true_tf = tf.cast(tf.reshape(y_true, (-1, self.size_output)), dtype=tf.float32)\n",
        "    y_pred_tf = tf.cast(y_pred, dtype=tf.float32)\n",
        "    return tf.keras.losses.CategoricalCrossentropy(from_logits=True)(y_true_tf, y_pred_tf)\n",
        "  \n",
        "  def backward(self, X_train, y_train):\n",
        "    \"\"\"\n",
        "    backward pass\n",
        "    \"\"\"\n",
        "    \n",
        "\n",
        "    optimizer = tf.keras.optimizers.SGD(learning_rate=1e-4)\n",
        "    with tf.GradientTape() as tape:\n",
        "      predicted = self.forward(X_train)\n",
        "      L1= (tf.reduce_sum(self.W1)+ tf.reduce_sum(self.W2)+tf.reduce_sum(self.W3)) #lasso regression\n",
        "      current_loss = self.loss(predicted, y_train)+ 0.08*L1\n",
        "    grads = tape.gradient(current_loss, self.variables)\n",
        "    optimizer.apply_gradients(zip(grads, self.variables))\n",
        "\n",
        "\n",
        "\n",
        "  def compute_correct_preds(self, y_pred, y_true):\n",
        "    y_true_tf = tf.cast(tf.reshape(y_true, (-1, self.size_output)), dtype=tf.float32)\n",
        "    y_pred_tf = tf.cast(y_pred, dtype=tf.float32)\n",
        "    correct = []\n",
        "    for i in range(y_pred_tf.shape[0]):\n",
        "        correct.append(tf.argmax(y_pred_tf[i]) == tf.argmax(y_true_tf[i]))\n",
        "    return np.mean(correct)  \n",
        "        \n",
        "        \n",
        "  def compute_output(self, X):\n",
        "    \"\"\"\n",
        "    Custom method to obtain output tensor during forward pass\n",
        "    \"\"\"\n",
        "    # Cast X to float32\n",
        "    X_tf = tf.cast(X, dtype=tf.float32)\n",
        "    #Remember to normalize your dataset before moving forward\n",
        "    # Compute values in hidden layer1\n",
        "    what1 = tf.matmul(X_tf, self.W1) + self.b1\n",
        "    hhat1 = tf.nn.relu(what1)\n",
        "    # Compute values in hidden layer2\n",
        "    what2 = tf.matmul(hhat1, self.W2) + self.b2\n",
        "    hhat2 = tf.nn.relu(what2)\n",
        "    # Compute output\n",
        "    output = tf.matmul(hhat2, self.W3) + self.b3\n",
        "    #Now consider two things , First look at inbuild loss functions if they work with softmax or not and then change this\n",
        "    #Second add tf.Softmax(output) and then return this variable\n",
        "    return output"
      ],
      "metadata": {
        "id": "rKbE408xKO5S"
      },
      "execution_count": 83,
      "outputs": []
    },
    {
      "cell_type": "code",
      "source": [
        "# Initialize model using CPU\n",
        "mlp_on_cpu = MLP(size_input, size_hidden, size_output, device='cpu')\n",
        "\n",
        "time_start = time.time()\n",
        "for epoch in range(NUM_EPOCHS):\n",
        "  loss_total = tf.zeros([1,1], dtype=tf.float32)\n",
        "  # lt = 0\n",
        "  train_ds = tf.data.Dataset.from_tensor_slices((x_train, y_train)).shuffle(25, seed=epoch*(2135)).batch(64)\n",
        "  correct_preds = tf.constant(0, dtype=tf.float32)\n",
        "  for inputs, outputs in train_ds:\n",
        "    preds = mlp_on_cpu.forward(inputs)\n",
        "    loss_total = loss_total + mlp_on_cpu.loss(preds, outputs)\n",
        "    # correct_preds = correct_preds + mlp_on_cpu.accuracy(preds, outputs)\n",
        "    mlp_on_cpu.backward(inputs, outputs)\n",
        "    correct_preds = correct_preds + mlp_on_cpu.accuracy(preds, outputs)\n",
        "  print('Number of Epoch = {} - Categorical Cross Entropy:= {} - accuracy: {}'.format(epoch + 1, np.sum(loss_total) / x_train.shape[0], correct_preds))\n",
        "\n",
        "\n",
        "time_taken = time.time() - time_start\n",
        "\n",
        "print('\\nTotal time taken (in seconds): {:.2f}'.format(time_taken))\n",
        "#For per epoch_time = Total_Time / Number_of_epochs"
      ],
      "metadata": {
        "colab": {
          "base_uri": "https://localhost:8080/"
        },
        "id": "BeMVA9aLKO3M",
        "outputId": "e4f13951-014a-41d0-bd0b-cc3c9e8035c1"
      },
      "execution_count": 84,
      "outputs": [
        {
          "output_type": "stream",
          "name": "stdout",
          "text": [
            "Number of Epoch = 1 - Categorical Cross Entropy:= 2.021857405462185 - accuracy: 35.10311508178711\n",
            "Number of Epoch = 2 - Categorical Cross Entropy:= 0.8614448529411765 - accuracy: 49.55231857299805\n",
            "Number of Epoch = 3 - Categorical Cross Entropy:= 0.6090793723739496 - accuracy: 53.14997482299805\n",
            "Number of Epoch = 4 - Categorical Cross Entropy:= 0.4715764180672269 - accuracy: 54.71477508544922\n",
            "Number of Epoch = 5 - Categorical Cross Entropy:= 0.38734378282563026 - accuracy: 55.00724792480469\n",
            "Number of Epoch = 6 - Categorical Cross Entropy:= 0.3308364298844538 - accuracy: 54.675655364990234\n",
            "Number of Epoch = 7 - Categorical Cross Entropy:= 0.29185894826680675 - accuracy: 53.4860725402832\n",
            "Number of Epoch = 8 - Categorical Cross Entropy:= 0.2640085839023109 - accuracy: 52.11960983276367\n",
            "Number of Epoch = 9 - Categorical Cross Entropy:= 0.24333093159138655 - accuracy: 50.172691345214844\n",
            "Number of Epoch = 10 - Categorical Cross Entropy:= 0.22546486016281514 - accuracy: 47.98508071899414\n",
            "\n",
            "Total time taken (in seconds): 569.26\n"
          ]
        }
      ]
    },
    {
      "cell_type": "code",
      "source": [
        "test_loss_total = tf.Variable(0, dtype=tf.float32)\n",
        "preds = mlp_on_cpu.forward(x_test)\n",
        "  #b = mlp_on_default.loss(preds, outputs)\n",
        "test_loss_total = test_loss_total + mlp_on_cpu.loss(preds, y_test)\n",
        "\n",
        "print('Test Categorical entropy loss: {:.4f}'.format(np.sum(test_loss_total.numpy()) / x_test.shape[0]))\n",
        "maxposition = lambda x : np.argmax(x)\n",
        "  # List comprehension to map the lambda function across all records of yTrue and yPred\n",
        "yTrueMax = np.array([maxposition(rec) for rec in y_test])\n",
        "yPredMax = np.array([maxposition(rec) for rec in preds])\n",
        "val_acc = sum(yPredMax == yTrueMax)/len(yPredMax)\n",
        "print('Test Accuracy: {:.4f}'.format(val_acc*100,\"%\"))"
      ],
      "metadata": {
        "colab": {
          "base_uri": "https://localhost:8080/"
        },
        "id": "5Tm2lu_xKO07",
        "outputId": "c8993867-9ba5-4695-cda8-6426bc0edee5"
      },
      "execution_count": 85,
      "outputs": [
        {
          "output_type": "stream",
          "name": "stdout",
          "text": [
            "Test Categorical entropy loss: 0.0014\n",
            "Test Accuracy: 50.0190\n"
          ]
        }
      ]
    },
    {
      "cell_type": "markdown",
      "source": [
        "##L2 regularisation"
      ],
      "metadata": {
        "id": "QooL0-NSMTGe"
      }
    },
    {
      "cell_type": "code",
      "source": [
        "# Define class to build mlp model\n",
        "class MLP(object):\n",
        "  def __init__(self, size_input, size_hidden, size_output, device=None):\n",
        "    \"\"\"\n",
        "    size_input: int, size of input layer\n",
        "    size_hidden: int, size of hidden layer\n",
        "    size_output: int, size of output layer\n",
        "    device: str or None, either 'cpu' or 'gpu' or None. If None, the device to be used will be decided automatically during Eager Execution\n",
        "    \"\"\"\n",
        "    self.size_input, self.size_hidden,self.size_output, self.device =\\\n",
        "    size_input, size_hidden, size_output, device\n",
        "\n",
        "    # self.dropout_layer = keras.layers.Dropout(rate=0.2)\n",
        "    \n",
        "    # Initialize weights between input layer and hidden layer-1\n",
        "    self.W1 = tf.Variable(tf.random.normal([self.size_input, self.size_hidden[0]]))\n",
        "    # Initialize biases for hidden layer-1\n",
        "    self.b1 = tf.Variable(tf.random.normal([1, self.size_hidden[0]]))\n",
        "\n",
        "    # Initialize weights between hidden layer-1 and hidden layer-2\n",
        "    self.W2 = tf.Variable(tf.random.normal([self.size_hidden[0], self.size_hidden[1]]))\n",
        "    # Initialize biases for hidden layer-1\n",
        "    self.b2 = tf.Variable(tf.random.normal([1, self.size_hidden[1]]))\n",
        "\n",
        "     # Initialize weights between hidden layer and output layer\n",
        "    self.W3 = tf.Variable(tf.random.normal([self.size_hidden[1], self.size_output]))\n",
        "    # Initialize biases for output layer\n",
        "    self.b3 = tf.Variable(tf.random.normal([1, self.size_output]))\n",
        "    \n",
        "    # Define variables to be updated during backpropagation\n",
        "    self.variables = [self.W1, self.W2, self.W3, self.b1, self.b2, self.b3]\n",
        "    \n",
        "  def forward(self, X):\n",
        "    \"\"\"\n",
        "    forward pass\n",
        "    X: Tensor, inputs\n",
        "    \"\"\"\n",
        "    if self.device is not None:\n",
        "      with tf.device('gpu:0' if self.device=='gpu' else 'cpu'):\n",
        "        self.y = self.compute_output(X)\n",
        "    else:\n",
        "      self.y = self.compute_output(X)\n",
        "      \n",
        "    return self.y\n",
        "\n",
        "  def accuracy(self, y_pred, y_true):\n",
        "    '''\n",
        "    y_pred - Tensor of shape (batch_size, size_output)\n",
        "    y_true - Tensor of shape (batch_size, size_output)\n",
        "    '''\n",
        "    y_true = np.argmax(y_true, axis=-1)\n",
        "    y_pred = np.argmax(y_pred, axis=-1)\n",
        "\n",
        "    # y_true_tf = tf.cast(tf.reshape(y_true, (-1, self.size_output)), dtype=tf.float32)\n",
        "    # y_pred_tf = tf.cast(y_pred, dtype=tf.float32)\n",
        "\n",
        "    # y_true_t = tf.math.argmax(y_true_tf, axis=-1)\n",
        "    # y_pred_t = tf.math.argmax(y_pred_tf, axis=-1)\n",
        "\n",
        "    acc = 0.1*accuracy_score(y_true, y_pred)\n",
        "    return acc \n",
        "  \n",
        "  def loss(self, y_pred, y_true):\n",
        "    '''\n",
        "    y_pred - Tensor of shape (batch_size, size_output)\n",
        "    y_true - Tensor of shape (batch_size, size_output)\n",
        "    '''\n",
        "    y_true_tf = tf.cast(tf.reshape(y_true, (-1, self.size_output)), dtype=tf.float32)\n",
        "    y_pred_tf = tf.cast(y_pred, dtype=tf.float32)\n",
        "    return tf.keras.losses.CategoricalCrossentropy(from_logits=True)(y_true_tf, y_pred_tf)\n",
        "  \n",
        "  def backward(self, X_train, y_train):\n",
        "    \"\"\"\n",
        "    backward pass\n",
        "    \"\"\"    \n",
        "    optimizer = tf.keras.optimizers.SGD(learning_rate=1e-4)\n",
        "    with tf.GradientTape() as tape:\n",
        "      predicted = self.forward(X_train)\n",
        "      L2=(tf.reduce_sum(tf.square(self.W1)) + tf.reduce_sum(tf.square(self.W2))\\\n",
        "+ tf.reduce_sum(tf.square(self.W3)))/3.0  #L2 Regularization\n",
        "      current_loss = self.loss(predicted, y_train)+ 0.05*L2\n",
        "    grads = tape.gradient(current_loss, self.variables)\n",
        "    optimizer.apply_gradients(zip(grads, self.variables))\n",
        "\n",
        "\n",
        "\n",
        "  def compute_correct_preds(self, y_pred, y_true):\n",
        "    y_true_tf = tf.cast(tf.reshape(y_true, (-1, self.size_output)), dtype=tf.float32)\n",
        "    y_pred_tf = tf.cast(y_pred, dtype=tf.float32)\n",
        "    correct = []\n",
        "    for i in range(y_pred_tf.shape[0]):\n",
        "        correct.append(tf.argmax(y_pred_tf[i]) == tf.argmax(y_true_tf[i]))\n",
        "    return np.mean(correct)  \n",
        "        \n",
        "        \n",
        "  def compute_output(self, X):\n",
        "    \"\"\"\n",
        "    Custom method to obtain output tensor during forward pass\n",
        "    \"\"\"\n",
        "    # Cast X to float32\n",
        "    X_tf = tf.cast(X, dtype=tf.float32)\n",
        "    #Remember to normalize your dataset before moving forward\n",
        "    # Compute values in hidden layer1\n",
        "    what1 = tf.matmul(X_tf, self.W1) + self.b1\n",
        "    hhat1 = tf.nn.relu(what1)\n",
        "    # Compute values in hidden layer2\n",
        "    what2 = tf.matmul(hhat1, self.W2) + self.b2\n",
        "    hhat2 = tf.nn.relu(what2)\n",
        "    # Compute output\n",
        "    output = tf.matmul(hhat2, self.W3) + self.b3\n",
        "    #Now consider two things , First look at inbuild loss functions if they work with softmax or not and then change this\n",
        "    #Second add tf.Softmax(output) and then return this variable\n",
        "    return output"
      ],
      "metadata": {
        "id": "GHAZNIuvMSJ2"
      },
      "execution_count": 86,
      "outputs": []
    },
    {
      "cell_type": "code",
      "source": [
        "# Initialize model using CPU\n",
        "mlp_on_cpu = MLP(size_input, size_hidden, size_output, device='cpu')\n",
        "\n",
        "time_start = time.time()\n",
        "for epoch in range(NUM_EPOCHS):\n",
        "  loss_total = tf.zeros([1,1], dtype=tf.float32)\n",
        "  # lt = 0\n",
        "  train_ds = tf.data.Dataset.from_tensor_slices((x_train, y_train)).shuffle(25, seed=epoch*(5052)).batch(64)\n",
        "  correct_preds = tf.constant(0, dtype=tf.float32)\n",
        "  for inputs, outputs in train_ds:\n",
        "    preds = mlp_on_cpu.forward(inputs)\n",
        "    loss_total = loss_total + mlp_on_cpu.loss(preds, outputs)\n",
        "    # correct_preds = correct_preds + mlp_on_cpu.accuracy(preds, outputs)\n",
        "    mlp_on_cpu.backward(inputs, outputs)\n",
        "    correct_preds = correct_preds + mlp_on_cpu.accuracy(preds, outputs)\n",
        "  print('Number of Epoch = {} - Categorical Cross Entropy:= {} - accuracy: {}'.format(epoch + 1, np.sum(loss_total) / x_train.shape[0], correct_preds))\n",
        "\n",
        "\n",
        "time_taken = time.time() - time_start\n",
        "\n",
        "print('\\nTotal time taken (in seconds): {:.2f}'.format(time_taken))\n",
        "#For per epoch_time = Total_Time / Number_of_epochs"
      ],
      "metadata": {
        "colab": {
          "base_uri": "https://localhost:8080/"
        },
        "id": "w_l-8dccMSHw",
        "outputId": "4015c1d3-71aa-4017-a235-6322d3f35969"
      },
      "execution_count": 87,
      "outputs": [
        {
          "output_type": "stream",
          "name": "stdout",
          "text": [
            "Number of Epoch = 1 - Categorical Cross Entropy:= 2.9998970588235294 - accuracy: 30.856393814086914\n",
            "Number of Epoch = 2 - Categorical Cross Entropy:= 1.1434875262605042 - accuracy: 49.85059356689453\n",
            "Number of Epoch = 3 - Categorical Cross Entropy:= 0.8237160582983193 - accuracy: 55.42241287231445\n",
            "Number of Epoch = 4 - Categorical Cross Entropy:= 0.6654498424369748 - accuracy: 58.120018005371094\n",
            "Number of Epoch = 5 - Categorical Cross Entropy:= 0.5676387867647059 - accuracy: 59.8011589050293\n",
            "Number of Epoch = 6 - Categorical Cross Entropy:= 0.4990478269432773 - accuracy: 60.848167419433594\n",
            "Number of Epoch = 7 - Categorical Cross Entropy:= 0.446800912552521 - accuracy: 61.62852478027344\n",
            "Number of Epoch = 8 - Categorical Cross Entropy:= 0.4055203847163866 - accuracy: 62.172874450683594\n",
            "Number of Epoch = 9 - Categorical Cross Entropy:= 0.37186045824579833 - accuracy: 62.62528991699219\n",
            "Number of Epoch = 10 - Categorical Cross Entropy:= 0.34306535582983194 - accuracy: 62.954776763916016\n",
            "\n",
            "Total time taken (in seconds): 307.69\n"
          ]
        }
      ]
    },
    {
      "cell_type": "code",
      "source": [
        "test_loss_total = tf.Variable(0, dtype=tf.float32)\n",
        "preds = mlp_on_cpu.forward(x_test)\n",
        "  #b = mlp_on_default.loss(preds, outputs)\n",
        "test_loss_total = test_loss_total + mlp_on_cpu.loss(preds, y_test)\n",
        "\n",
        "print('Test Categorical entropy loss: {:.4f}'.format(np.sum(test_loss_total.numpy()) / x_test.shape[0]))\n",
        "maxposition = lambda x : np.argmax(x)\n",
        "  # List comprehension to map the lambda function across all records of yTrue and yPred\n",
        "yTrueMax = np.array([maxposition(rec) for rec in y_test])\n",
        "yPredMax = np.array([maxposition(rec) for rec in preds])\n",
        "val_acc = sum(yPredMax == yTrueMax)/len(yPredMax)\n",
        "print('Test Accuracy: {:.4f}'.format(val_acc*100,\"%\"))"
      ],
      "metadata": {
        "colab": {
          "base_uri": "https://localhost:8080/"
        },
        "id": "FqhNTziEMSGB",
        "outputId": "961373b6-cbba-46b7-fe90-45aa132e25e2"
      },
      "execution_count": 88,
      "outputs": [
        {
          "output_type": "stream",
          "name": "stdout",
          "text": [
            "Test Categorical entropy loss: 0.0021\n",
            "Test Accuracy: 67.5048\n"
          ]
        }
      ]
    },
    {
      "cell_type": "markdown",
      "source": [
        "dropout + L2"
      ],
      "metadata": {
        "id": "fFSASfjANBPn"
      }
    },
    {
      "cell_type": "code",
      "source": [
        "# Define class to build mlp model\n",
        "class MLP(object):\n",
        "  def __init__(self, size_input, size_hidden, size_output, device=None):\n",
        "    \"\"\"\n",
        "    size_input: int, size of input layer\n",
        "    size_hidden: int, size of hidden layer\n",
        "    size_output: int, size of output layer\n",
        "    device: str or None, either 'cpu' or 'gpu' or None. If None, the device to be used will be decided automatically during Eager Execution\n",
        "    \"\"\"\n",
        "    self.size_input, self.size_hidden,self.size_output, self.device =\\\n",
        "    size_input, size_hidden, size_output, device\n",
        "\n",
        "    self.dropout_layer = keras.layers.Dropout(rate=0.2)\n",
        "    \n",
        "    # Initialize weights between input layer and hidden layer-1\n",
        "    self.W1 = tf.Variable(tf.random.normal([self.size_input, self.size_hidden[0]]))\n",
        "    # Initialize biases for hidden layer-1\n",
        "    self.b1 = tf.Variable(tf.random.normal([1, self.size_hidden[0]]))\n",
        "\n",
        "    # Initialize weights between hidden layer-1 and hidden layer-2\n",
        "    self.W2 = tf.Variable(tf.random.normal([self.size_hidden[0], self.size_hidden[1]]))\n",
        "    # Initialize biases for hidden layer-1\n",
        "    self.b2 = tf.Variable(tf.random.normal([1, self.size_hidden[1]]))\n",
        "\n",
        "     # Initialize weights between hidden layer and output layer\n",
        "    self.W3 = tf.Variable(tf.random.normal([self.size_hidden[1], self.size_output]))\n",
        "    # Initialize biases for output layer\n",
        "    self.b3 = tf.Variable(tf.random.normal([1, self.size_output]))\n",
        "    \n",
        "    # Define variables to be updated during backpropagation\n",
        "    self.variables = [self.W1, self.W2, self.W3, self.b1, self.b2, self.b3]\n",
        "    \n",
        "  def forward(self, X):\n",
        "    \"\"\"\n",
        "    forward pass\n",
        "    X: Tensor, inputs\n",
        "    \"\"\"\n",
        "    if self.device is not None:\n",
        "      with tf.device('gpu:0' if self.device=='gpu' else 'cpu'):\n",
        "        self.y = self.compute_output(X)\n",
        "    else:\n",
        "      self.y = self.compute_output(X)\n",
        "      \n",
        "    return self.y\n",
        "\n",
        "  def accuracy(self, y_pred, y_true):\n",
        "    '''\n",
        "    y_pred - Tensor of shape (batch_size, size_output)\n",
        "    y_true - Tensor of shape (batch_size, size_output)\n",
        "    '''\n",
        "    y_true = np.argmax(y_true, axis=-1)\n",
        "    y_pred = np.argmax(y_pred, axis=-1)\n",
        "\n",
        "    # y_true_tf = tf.cast(tf.reshape(y_true, (-1, self.size_output)), dtype=tf.float32)\n",
        "    # y_pred_tf = tf.cast(y_pred, dtype=tf.float32)\n",
        "\n",
        "    # y_true_t = tf.math.argmax(y_true_tf, axis=-1)\n",
        "    # y_pred_t = tf.math.argmax(y_pred_tf, axis=-1)\n",
        "\n",
        "    acc = 0.1*accuracy_score(y_true, y_pred)\n",
        "    return acc \n",
        "  \n",
        "  def loss(self, y_pred, y_true):\n",
        "    '''\n",
        "    y_pred - Tensor of shape (batch_size, size_output)\n",
        "    y_true - Tensor of shape (batch_size, size_output)\n",
        "    '''\n",
        "    y_true_tf = tf.cast(tf.reshape(y_true, (-1, self.size_output)), dtype=tf.float32)\n",
        "    y_pred_tf = tf.cast(y_pred, dtype=tf.float32)\n",
        "    return tf.keras.losses.CategoricalCrossentropy(from_logits=True)(y_true_tf, y_pred_tf)\n",
        "  \n",
        "  def backward(self, X_train, y_train):\n",
        "    \"\"\"\n",
        "    backward pass\n",
        "    \"\"\"    \n",
        "    optimizer = tf.keras.optimizers.SGD(learning_rate=1e-4)\n",
        "    with tf.GradientTape() as tape:\n",
        "      predicted = self.forward(X_train)\n",
        "      L2=(tf.reduce_sum(tf.square(self.W1)) + tf.reduce_sum(tf.square(self.W2))\\\n",
        "+ tf.reduce_sum(tf.square(self.W3)))/3.0  #L2 Regularization\n",
        "      current_loss = self.loss(predicted, y_train)+ 0.05*L2\n",
        "    grads = tape.gradient(current_loss, self.variables)\n",
        "    optimizer.apply_gradients(zip(grads, self.variables))\n",
        "\n",
        "\n",
        "\n",
        "  def compute_correct_preds(self, y_pred, y_true):\n",
        "    y_true_tf = tf.cast(tf.reshape(y_true, (-1, self.size_output)), dtype=tf.float32)\n",
        "    y_pred_tf = tf.cast(y_pred, dtype=tf.float32)\n",
        "    correct = []\n",
        "    for i in range(y_pred_tf.shape[0]):\n",
        "        correct.append(tf.argmax(y_pred_tf[i]) == tf.argmax(y_true_tf[i]))\n",
        "    return np.mean(correct)  \n",
        "        \n",
        "        \n",
        "  def compute_output(self, X):\n",
        "    \"\"\"\n",
        "    Custom method to obtain output tensor during forward pass\n",
        "    \"\"\"\n",
        "    # Cast X to float32\n",
        "    X_tf = tf.cast(X, dtype=tf.float32)\n",
        "\n",
        "    #Remember to normalize your dataset before moving forward\n",
        "    # Compute values in hidden layer1\n",
        "    what1 = tf.matmul(X_tf, self.W1) + self.b1\n",
        "    hhat1 = tf.nn.relu(what1)\n",
        "    hhat1 = self.dropout_layer(hhat1)\n",
        "    # Compute values in hidden layer2\n",
        "    what2 = tf.matmul(hhat1, self.W2) + self.b2\n",
        "    hhat2 = tf.nn.relu(what2)\n",
        "    hhat2 = self.dropout_layer(hhat2)\n",
        "\n",
        "    # Compute output\n",
        "    output = tf.matmul(hhat2, self.W3) + self.b3\n",
        "    #Now consider two things , First look at inbuild loss functions if they work with softmax or not and then change this\n",
        "    #Second add tf.Softmax(output) and then return this variable\n",
        "    return output"
      ],
      "metadata": {
        "id": "Yk0xiDVIMSCg"
      },
      "execution_count": 89,
      "outputs": []
    },
    {
      "cell_type": "code",
      "source": [
        "# Initialize model using CPU\n",
        "mlp_on_cpu = MLP(size_input, size_hidden, size_output, device='cpu')\n",
        "\n",
        "time_start = time.time()\n",
        "for epoch in range(NUM_EPOCHS):\n",
        "  loss_total = tf.zeros([1,1], dtype=tf.float32)\n",
        "  # lt = 0\n",
        "  train_ds = tf.data.Dataset.from_tensor_slices((x_train, y_train)).shuffle(25, seed=epoch*(5052)).batch(64)\n",
        "  correct_preds = tf.constant(0, dtype=tf.float32)\n",
        "  for inputs, outputs in train_ds:\n",
        "    preds = mlp_on_cpu.forward(inputs)\n",
        "    loss_total = loss_total + mlp_on_cpu.loss(preds, outputs)\n",
        "    # correct_preds = correct_preds + mlp_on_cpu.accuracy(preds, outputs)\n",
        "    mlp_on_cpu.backward(inputs, outputs)\n",
        "    correct_preds = correct_preds + mlp_on_cpu.accuracy(preds, outputs)\n",
        "  print('Number of Epoch = {} - Categorical Cross Entropy:= {} - accuracy: {}'.format(epoch + 1, np.sum(loss_total) / x_train.shape[0], correct_preds))\n",
        "\n",
        "\n",
        "time_taken = time.time() - time_start\n",
        "\n",
        "print('\\nTotal time taken (in seconds): {:.2f}'.format(time_taken))\n",
        "#For per epoch_time = Total_Time / Number_of_epochs"
      ],
      "metadata": {
        "colab": {
          "base_uri": "https://localhost:8080/"
        },
        "id": "6LOJAEPcMR_P",
        "outputId": "21c68715-63e0-4366-bc3c-8c0e23413fc5"
      },
      "execution_count": 90,
      "outputs": [
        {
          "output_type": "stream",
          "name": "stdout",
          "text": [
            "Number of Epoch = 1 - Categorical Cross Entropy:= 2.6322481617647058 - accuracy: 34.36788558959961\n",
            "Number of Epoch = 2 - Categorical Cross Entropy:= 1.0718106617647059 - accuracy: 52.229583740234375\n",
            "Number of Epoch = 3 - Categorical Cross Entropy:= 0.8162452731092437 - accuracy: 57.16517639160156\n",
            "Number of Epoch = 4 - Categorical Cross Entropy:= 0.6772162552521008 - accuracy: 59.6036491394043\n",
            "Number of Epoch = 5 - Categorical Cross Entropy:= 0.5838434217436975 - accuracy: 61.1396598815918\n",
            "Number of Epoch = 6 - Categorical Cross Entropy:= 0.5160455291491597 - accuracy: 62.19888687133789\n",
            "Number of Epoch = 7 - Categorical Cross Entropy:= 0.46356131827731095 - accuracy: 63.00508117675781\n",
            "Number of Epoch = 8 - Categorical Cross Entropy:= 0.42146323529411767 - accuracy: 63.59400177001953\n",
            "Number of Epoch = 9 - Categorical Cross Entropy:= 0.38661177127100843 - accuracy: 64.05372619628906\n",
            "Number of Epoch = 10 - Categorical Cross Entropy:= 0.3569582786239496 - accuracy: 64.46502685546875\n",
            "\n",
            "Total time taken (in seconds): 321.85\n"
          ]
        }
      ]
    },
    {
      "cell_type": "code",
      "source": [
        "test_loss_total = tf.Variable(0, dtype=tf.float32)\n",
        "preds = mlp_on_cpu.forward(x_test)\n",
        "  #b = mlp_on_default.loss(preds, outputs)\n",
        "test_loss_total = test_loss_total + mlp_on_cpu.loss(preds, y_test)\n",
        "\n",
        "print('Test Categorical entropy loss: {:.4f}'.format(np.sum(test_loss_total.numpy()) / x_test.shape[0]))\n",
        "maxposition = lambda x : np.argmax(x)\n",
        "  # List comprehension to map the lambda function across all records of yTrue and yPred\n",
        "yTrueMax = np.array([maxposition(rec) for rec in y_test])\n",
        "yPredMax = np.array([maxposition(rec) for rec in preds])\n",
        "val_acc = sum(yPredMax == yTrueMax)/len(yPredMax)\n",
        "print('Test Accuracy: {:.4f}'.format(val_acc*100,\"%\"))"
      ],
      "metadata": {
        "colab": {
          "base_uri": "https://localhost:8080/"
        },
        "id": "BM16WdsNMR85",
        "outputId": "ae175a4a-a7af-44ff-d572-17a844ea60c2"
      },
      "execution_count": 91,
      "outputs": [
        {
          "output_type": "stream",
          "name": "stdout",
          "text": [
            "Test Categorical entropy loss: 0.0022\n",
            "Test Accuracy: 68.8000\n"
          ]
        }
      ]
    },
    {
      "cell_type": "markdown",
      "source": [
        "same as above + 20 epochs"
      ],
      "metadata": {
        "id": "1XfkstVsNWom"
      }
    },
    {
      "cell_type": "code",
      "source": [
        "# Define class to build mlp model\n",
        "class MLP(object):\n",
        "  def __init__(self, size_input, size_hidden, size_output, device=None):\n",
        "    \"\"\"\n",
        "    size_input: int, size of input layer\n",
        "    size_hidden: int, size of hidden layer\n",
        "    size_output: int, size of output layer\n",
        "    device: str or None, either 'cpu' or 'gpu' or None. If None, the device to be used will be decided automatically during Eager Execution\n",
        "    \"\"\"\n",
        "    self.size_input, self.size_hidden,self.size_output, self.device =\\\n",
        "    size_input, size_hidden, size_output, device\n",
        "\n",
        "    self.dropout_layer = keras.layers.Dropout(rate=0.2)\n",
        "    \n",
        "    # Initialize weights between input layer and hidden layer-1\n",
        "    self.W1 = tf.Variable(tf.random.normal([self.size_input, self.size_hidden[0]]))\n",
        "    # Initialize biases for hidden layer-1\n",
        "    self.b1 = tf.Variable(tf.random.normal([1, self.size_hidden[0]]))\n",
        "\n",
        "    # Initialize weights between hidden layer-1 and hidden layer-2\n",
        "    self.W2 = tf.Variable(tf.random.normal([self.size_hidden[0], self.size_hidden[1]]))\n",
        "    # Initialize biases for hidden layer-1\n",
        "    self.b2 = tf.Variable(tf.random.normal([1, self.size_hidden[1]]))\n",
        "\n",
        "     # Initialize weights between hidden layer and output layer\n",
        "    self.W3 = tf.Variable(tf.random.normal([self.size_hidden[1], self.size_output]))\n",
        "    # Initialize biases for output layer\n",
        "    self.b3 = tf.Variable(tf.random.normal([1, self.size_output]))\n",
        "    \n",
        "    # Define variables to be updated during backpropagation\n",
        "    self.variables = [self.W1, self.W2, self.W3, self.b1, self.b2, self.b3]\n",
        "    \n",
        "  def forward(self, X):\n",
        "    \"\"\"\n",
        "    forward pass\n",
        "    X: Tensor, inputs\n",
        "    \"\"\"\n",
        "    if self.device is not None:\n",
        "      with tf.device('gpu:0' if self.device=='gpu' else 'cpu'):\n",
        "        self.y = self.compute_output(X)\n",
        "    else:\n",
        "      self.y = self.compute_output(X)\n",
        "      \n",
        "    return self.y\n",
        "\n",
        "  def accuracy(self, y_pred, y_true):\n",
        "    '''\n",
        "    y_pred - Tensor of shape (batch_size, size_output)\n",
        "    y_true - Tensor of shape (batch_size, size_output)\n",
        "    '''\n",
        "    y_true = np.argmax(y_true, axis=-1)\n",
        "    y_pred = np.argmax(y_pred, axis=-1)\n",
        "\n",
        "    # y_true_tf = tf.cast(tf.reshape(y_true, (-1, self.size_output)), dtype=tf.float32)\n",
        "    # y_pred_tf = tf.cast(y_pred, dtype=tf.float32)\n",
        "\n",
        "    # y_true_t = tf.math.argmax(y_true_tf, axis=-1)\n",
        "    # y_pred_t = tf.math.argmax(y_pred_tf, axis=-1)\n",
        "\n",
        "    acc = 0.1*accuracy_score(y_true, y_pred)\n",
        "    return acc \n",
        "  \n",
        "  def loss(self, y_pred, y_true):\n",
        "    '''\n",
        "    y_pred - Tensor of shape (batch_size, size_output)\n",
        "    y_true - Tensor of shape (batch_size, size_output)\n",
        "    '''\n",
        "    y_true_tf = tf.cast(tf.reshape(y_true, (-1, self.size_output)), dtype=tf.float32)\n",
        "    y_pred_tf = tf.cast(y_pred, dtype=tf.float32)\n",
        "    return tf.keras.losses.CategoricalCrossentropy(from_logits=True)(y_true_tf, y_pred_tf)\n",
        "  \n",
        "  def backward(self, X_train, y_train):\n",
        "    \"\"\"\n",
        "    backward pass\n",
        "    \"\"\"    \n",
        "    optimizer = tf.keras.optimizers.SGD(learning_rate=1e-4)\n",
        "    with tf.GradientTape() as tape:\n",
        "      predicted = self.forward(X_train)\n",
        "      L2=(tf.reduce_sum(tf.square(self.W1)) + tf.reduce_sum(tf.square(self.W2))\\\n",
        "+ tf.reduce_sum(tf.square(self.W3)))/3.0  #L2 Regularization\n",
        "      # L1= (tf.reduce_sum(self.W1)+ tf.reduce_sum(self.W2)+tf.reduce_sum(self.W3))\n",
        "\n",
        "      current_loss = self.loss(predicted, y_train)+ 0.05*L2\n",
        "    grads = tape.gradient(current_loss, self.variables)\n",
        "    optimizer.apply_gradients(zip(grads, self.variables))\n",
        "\n",
        "\n",
        "\n",
        "  def compute_correct_preds(self, y_pred, y_true):\n",
        "    y_true_tf = tf.cast(tf.reshape(y_true, (-1, self.size_output)), dtype=tf.float32)\n",
        "    y_pred_tf = tf.cast(y_pred, dtype=tf.float32)\n",
        "    correct = []\n",
        "    for i in range(y_pred_tf.shape[0]):\n",
        "        correct.append(tf.argmax(y_pred_tf[i]) == tf.argmax(y_true_tf[i]))\n",
        "    return np.mean(correct)  \n",
        "        \n",
        "        \n",
        "  def compute_output(self, X):\n",
        "    \"\"\"\n",
        "    Custom method to obtain output tensor during forward pass\n",
        "    \"\"\"\n",
        "    # Cast X to float32\n",
        "    X_tf = tf.cast(X, dtype=tf.float32)\n",
        "\n",
        "    #Remember to normalize your dataset before moving forward\n",
        "    # Compute values in hidden layer1\n",
        "    what1 = tf.matmul(X_tf, self.W1) + self.b1\n",
        "    hhat1 = tf.nn.relu(what1)\n",
        "    hhat1 = self.dropout_layer(hhat1)\n",
        "    # Compute values in hidden layer2\n",
        "    what2 = tf.matmul(hhat1, self.W2) + self.b2\n",
        "    hhat2 = tf.nn.relu(what2)\n",
        "    hhat2 = self.dropout_layer(hhat2)\n",
        "\n",
        "    # Compute output\n",
        "    output = tf.matmul(hhat2, self.W3) + self.b3\n",
        "    # output=  tf.nn.softmax(output)\n",
        "    #Now consider two things , First look at inbuild loss functions if they work with softmax or not and then change this\n",
        "    #Second add tf.Softmax(output) and then return this variable\n",
        "    return output"
      ],
      "metadata": {
        "id": "hwGYtTJ8MR6g"
      },
      "execution_count": 92,
      "outputs": []
    },
    {
      "cell_type": "code",
      "source": [
        "NUM_EPOCHS=20"
      ],
      "metadata": {
        "id": "tihaTZPhNb-C"
      },
      "execution_count": 93,
      "outputs": []
    },
    {
      "cell_type": "code",
      "source": [
        "# Initialize model using CPU\n",
        "mlp_on_cpu = MLP(size_input, size_hidden, size_output, device='cpu')\n",
        "\n",
        "time_start = time.time()\n",
        "for epoch in range(NUM_EPOCHS):\n",
        "  loss_total = tf.zeros([1,1], dtype=tf.float32)\n",
        "  # lt = 0\n",
        "  train_ds = tf.data.Dataset.from_tensor_slices((x_train, y_train)).shuffle(25, seed=epoch*(5052)).batch(64)\n",
        "  correct_preds = tf.constant(0, dtype=tf.float32)\n",
        "  for inputs, outputs in train_ds:\n",
        "    preds = mlp_on_cpu.forward(inputs)\n",
        "    loss_total = loss_total + mlp_on_cpu.loss(preds, outputs)\n",
        "    # correct_preds = correct_preds + mlp_on_cpu.accuracy(preds, outputs)\n",
        "    mlp_on_cpu.backward(inputs, outputs)\n",
        "    correct_preds = correct_preds + mlp_on_cpu.accuracy(preds, outputs)\n",
        "  print('Number of Epoch = {} - Categorical Cross Entropy:= {} - accuracy: {}'.format(epoch + 1, np.sum(loss_total) / x_train.shape[0], correct_preds))\n",
        "\n",
        "\n",
        "time_taken = time.time() - time_start\n",
        "\n",
        "print('\\nTotal time taken (in seconds): {:.2f}'.format(time_taken))\n",
        "#For per epoch_time = Total_Time / Number_of_epochs"
      ],
      "metadata": {
        "colab": {
          "base_uri": "https://localhost:8080/"
        },
        "id": "OR9ocE8UMR4G",
        "outputId": "60cf74eb-2028-457a-c275-5bc90e855e1b"
      },
      "execution_count": null,
      "outputs": [
        {
          "output_type": "stream",
          "name": "stdout",
          "text": [
            "Number of Epoch = 1 - Categorical Cross Entropy:= 2.2203742121848737 - accuracy: 33.75864791870117\n",
            "Number of Epoch = 2 - Categorical Cross Entropy:= 0.9518251706932773 - accuracy: 50.83108901977539\n",
            "Number of Epoch = 3 - Categorical Cross Entropy:= 0.724858849789916 - accuracy: 55.42619705200195\n",
            "Number of Epoch = 4 - Categorical Cross Entropy:= 0.6020840336134454 - accuracy: 57.799564361572266\n",
            "Number of Epoch = 5 - Categorical Cross Entropy:= 0.51965625 - accuracy: 59.39543914794922\n",
            "Number of Epoch = 6 - Categorical Cross Entropy:= 0.4593531381302521 - accuracy: 60.60563278198242\n",
            "Number of Epoch = 7 - Categorical Cross Entropy:= 0.41313409269957985 - accuracy: 61.50468063354492\n",
            "Number of Epoch = 8 - Categorical Cross Entropy:= 0.37563461790966385 - accuracy: 62.25014114379883\n",
            "Number of Epoch = 9 - Categorical Cross Entropy:= 0.34485619091386555 - accuracy: 62.79432678222656\n",
            "Number of Epoch = 10 - Categorical Cross Entropy:= 0.3191509978991597 - accuracy: 63.26117706298828\n",
            "Number of Epoch = 11 - Categorical Cross Entropy:= 0.2972275800945378 - accuracy: 63.630096435546875\n",
            "Number of Epoch = 12 - Categorical Cross Entropy:= 0.27791573660714286 - accuracy: 63.91339111328125\n",
            "Number of Epoch = 13 - Categorical Cross Entropy:= 0.26084473476890757 - accuracy: 64.20411682128906\n",
            "Number of Epoch = 14 - Categorical Cross Entropy:= 0.24548723082983193 - accuracy: 64.41500854492188\n",
            "Number of Epoch = 15 - Categorical Cross Entropy:= 0.23172585674894958 - accuracy: 64.5868911743164\n"
          ]
        }
      ]
    },
    {
      "cell_type": "markdown",
      "source": [
        "##adam + dropout + L2 + 20epochs\n",
        "\n",
        "\n",
        "\n"
      ],
      "metadata": {
        "id": "bhQ5MqynNwuc"
      }
    },
    {
      "cell_type": "code",
      "source": [
        "# Define class to build mlp model\n",
        "class MLP(object):\n",
        "  def __init__(self, size_input, size_hidden, size_output, device=None):\n",
        "    \"\"\"\n",
        "    size_input: int, size of input layer\n",
        "    size_hidden: int, size of hidden layer\n",
        "    size_output: int, size of output layer\n",
        "    device: str or None, either 'cpu' or 'gpu' or None. If None, the device to be used will be decided automatically during Eager Execution\n",
        "    \"\"\"\n",
        "    self.size_input, self.size_hidden,self.size_output, self.device =\\\n",
        "    size_input, size_hidden, size_output, device\n",
        "\n",
        "    self.dropout_layer = keras.layers.Dropout(rate=0.2)\n",
        "    \n",
        "    # Initialize weights between input layer and hidden layer-1\n",
        "    self.W1 = tf.Variable(tf.random.normal([self.size_input, self.size_hidden[0]]))\n",
        "    # Initialize biases for hidden layer-1\n",
        "    self.b1 = tf.Variable(tf.random.normal([1, self.size_hidden[0]]))\n",
        "\n",
        "    # Initialize weights between hidden layer-1 and hidden layer-2\n",
        "    self.W2 = tf.Variable(tf.random.normal([self.size_hidden[0], self.size_hidden[1]]))\n",
        "    # Initialize biases for hidden layer-1\n",
        "    self.b2 = tf.Variable(tf.random.normal([1, self.size_hidden[1]]))\n",
        "\n",
        "     # Initialize weights between hidden layer and output layer\n",
        "    self.W3 = tf.Variable(tf.random.normal([self.size_hidden[1], self.size_output]))\n",
        "    # Initialize biases for output layer\n",
        "    self.b3 = tf.Variable(tf.random.normal([1, self.size_output]))\n",
        "    \n",
        "    # Define variables to be updated during backpropagation\n",
        "    self.variables = [self.W1, self.W2, self.W3, self.b1, self.b2, self.b3]\n",
        "    \n",
        "  def forward(self, X):\n",
        "    \"\"\"\n",
        "    forward pass\n",
        "    X: Tensor, inputs\n",
        "    \"\"\"\n",
        "    if self.device is not None:\n",
        "      with tf.device('gpu:0' if self.device=='gpu' else 'cpu'):\n",
        "        self.y = self.compute_output(X)\n",
        "    else:\n",
        "      self.y = self.compute_output(X)\n",
        "      \n",
        "    return self.y\n",
        "\n",
        "  def accuracy(self, y_pred, y_true):\n",
        "    '''\n",
        "    y_pred - Tensor of shape (batch_size, size_output)\n",
        "    y_true - Tensor of shape (batch_size, size_output)\n",
        "    '''\n",
        "    y_true = np.argmax(y_true, axis=-1)\n",
        "    y_pred = np.argmax(y_pred, axis=-1)\n",
        "\n",
        "    # y_true_tf = tf.cast(tf.reshape(y_true, (-1, self.size_output)), dtype=tf.float32)\n",
        "    # y_pred_tf = tf.cast(y_pred, dtype=tf.float32)\n",
        "\n",
        "    # y_true_t = tf.math.argmax(y_true_tf, axis=-1)\n",
        "    # y_pred_t = tf.math.argmax(y_pred_tf, axis=-1)\n",
        "\n",
        "    acc = 0.1*accuracy_score(y_true, y_pred)\n",
        "    return acc \n",
        "  \n",
        "  def loss(self, y_pred, y_true):\n",
        "    '''\n",
        "    y_pred - Tensor of shape (batch_size, size_output)\n",
        "    y_true - Tensor of shape (batch_size, size_output)\n",
        "    '''\n",
        "    y_true_tf = tf.cast(tf.reshape(y_true, (-1, self.size_output)), dtype=tf.float32)\n",
        "    y_pred_tf = tf.cast(y_pred, dtype=tf.float32)\n",
        "    return tf.keras.losses.CategoricalCrossentropy(from_logits=True)(y_true_tf, y_pred_tf)\n",
        "  \n",
        "  def backward(self, X_train, y_train):\n",
        "    \"\"\"\n",
        "    backward pass\n",
        "    \"\"\"    \n",
        "    optimizer = tf.keras.optimizers.Adam(learning_rate=1e-4)\n",
        "    with tf.GradientTape() as tape:\n",
        "      predicted = self.forward(X_train)\n",
        "      L2=(tf.reduce_sum(tf.square(self.W1)) + tf.reduce_sum(tf.square(self.W2))\\\n",
        "+ tf.reduce_sum(tf.square(self.W3)))/3.0  #L2 Regularization\n",
        "      # L1= (tf.reduce_sum(self.W1)+ tf.reduce_sum(self.W2)+tf.reduce_sum(self.W3))\n",
        "\n",
        "      current_loss = self.loss(predicted, y_train)+ 0.05*L2\n",
        "    grads = tape.gradient(current_loss, self.variables)\n",
        "    optimizer.apply_gradients(zip(grads, self.variables))\n",
        "\n",
        "\n",
        "\n",
        "  def compute_correct_preds(self, y_pred, y_true):\n",
        "    y_true_tf = tf.cast(tf.reshape(y_true, (-1, self.size_output)), dtype=tf.float32)\n",
        "    y_pred_tf = tf.cast(y_pred, dtype=tf.float32)\n",
        "    correct = []\n",
        "    for i in range(y_pred_tf.shape[0]):\n",
        "        correct.append(tf.argmax(y_pred_tf[i]) == tf.argmax(y_true_tf[i]))\n",
        "    return np.mean(correct)  \n",
        "        \n",
        "        \n",
        "  def compute_output(self, X):\n",
        "    \"\"\"\n",
        "    Custom method to obtain output tensor during forward pass\n",
        "    \"\"\"\n",
        "    # Cast X to float32\n",
        "    X_tf = tf.cast(X, dtype=tf.float32)\n",
        "\n",
        "    #Remember to normalize your dataset before moving forward\n",
        "    # Compute values in hidden layer1\n",
        "    what1 = tf.matmul(X_tf, self.W1) + self.b1\n",
        "    hhat1 = tf.nn.relu(what1)\n",
        "    hhat1 = self.dropout_layer(hhat1)\n",
        "    # Compute values in hidden layer2\n",
        "    what2 = tf.matmul(hhat1, self.W2) + self.b2\n",
        "    hhat2 = tf.nn.relu(what2)\n",
        "    hhat2 = self.dropout_layer(hhat2)\n",
        "\n",
        "    # Compute output\n",
        "    output = tf.matmul(hhat2, self.W3) + self.b3\n",
        "    # output=  tf.nn.softmax(output)\n",
        "    #Now consider two things , First look at inbuild loss functions if they work with softmax or not and then change this\n",
        "    #Second add tf.Softmax(output) and then return this variable\n",
        "    return output"
      ],
      "metadata": {
        "id": "37SnW8ikMRz7"
      },
      "execution_count": null,
      "outputs": []
    },
    {
      "cell_type": "code",
      "source": [
        "# Initialize model using CPU\n",
        "mlp_on_cpu = MLP(size_input, size_hidden, size_output, device='cpu')\n",
        "\n",
        "time_start = time.time()\n",
        "for epoch in range(NUM_EPOCHS):\n",
        "  loss_total = tf.zeros([1,1], dtype=tf.float32)\n",
        "  # lt = 0\n",
        "  train_ds = tf.data.Dataset.from_tensor_slices((x_train, y_train)).shuffle(25, seed=epoch*(1234)).batch(64)\n",
        "  correct_preds = tf.constant(0, dtype=tf.float32)\n",
        "  for inputs, outputs in train_ds:\n",
        "    preds = mlp_on_cpu.forward(inputs)\n",
        "    loss_total = loss_total + mlp_on_cpu.loss(preds, outputs)\n",
        "    # correct_preds = correct_preds + mlp_on_cpu.accuracy(preds, outputs)\n",
        "    mlp_on_cpu.backward(inputs, outputs)\n",
        "    correct_preds = correct_preds + mlp_on_cpu.accuracy(preds, outputs)\n",
        "  print('Number of Epoch = {} - Categorical Cross Entropy:= {} - accuracy: {}'.format(epoch + 1, np.sum(loss_total) / x_train.shape[0], correct_preds))\n",
        "\n",
        "\n",
        "time_taken = time.time() - time_start\n",
        "\n",
        "print('\\nTotal time taken (in seconds): {:.2f}'.format(time_taken))\n",
        "#For per epoch_time = Total_Time / Number_of_epochs"
      ],
      "metadata": {
        "colab": {
          "base_uri": "https://localhost:8080/"
        },
        "id": "6Sp_pForMRuu",
        "outputId": "5086e8b0-2e09-4560-d9e9-5f7289dc7c14"
      },
      "execution_count": null,
      "outputs": [
        {
          "output_type": "stream",
          "name": "stdout",
          "text": [
            "Number of Epoch = 1 - Categorical Cross Entropy:= 3.0630869222689077 - accuracy: 31.22429847717285\n",
            "Number of Epoch = 2 - Categorical Cross Entropy:= 0.9326937368697479 - accuracy: 51.36847686767578\n",
            "Number of Epoch = 3 - Categorical Cross Entropy:= 0.6465136554621849 - accuracy: 57.98876953125\n",
            "Number of Epoch = 4 - Categorical Cross Entropy:= 0.5049840467436975 - accuracy: 61.35936737060547\n",
            "Number of Epoch = 5 - Categorical Cross Entropy:= 0.4176030396533613 - accuracy: 63.63134765625\n",
            "Number of Epoch = 6 - Categorical Cross Entropy:= 0.35523880646008404 - accuracy: 65.23921966552734\n",
            "Number of Epoch = 7 - Categorical Cross Entropy:= 0.30724960609243696 - accuracy: 66.36721801757812\n",
            "Number of Epoch = 8 - Categorical Cross Entropy:= 0.2695611869747899 - accuracy: 67.1525650024414\n",
            "Number of Epoch = 9 - Categorical Cross Entropy:= 0.2391012506565126 - accuracy: 67.80240631103516\n",
            "Number of Epoch = 10 - Categorical Cross Entropy:= 0.21353820903361345 - accuracy: 68.2868423461914\n",
            "Number of Epoch = 11 - Categorical Cross Entropy:= 0.1916102612920168 - accuracy: 68.73299407958984\n",
            "Number of Epoch = 12 - Categorical Cross Entropy:= 0.17281727612920167 - accuracy: 69.06803894042969\n",
            "Number of Epoch = 13 - Categorical Cross Entropy:= 0.15632382484243698 - accuracy: 69.40330505371094\n",
            "Number of Epoch = 14 - Categorical Cross Entropy:= 0.14198573726365546 - accuracy: 69.63285064697266\n",
            "Number of Epoch = 15 - Categorical Cross Entropy:= 0.12868769695378152 - accuracy: 69.90099334716797\n",
            "Number of Epoch = 16 - Categorical Cross Entropy:= 0.1169072265625 - accuracy: 70.08745574951172\n",
            "Number of Epoch = 17 - Categorical Cross Entropy:= 0.10640522419905463 - accuracy: 70.28749084472656\n"
          ]
        }
      ]
    },
    {
      "cell_type": "code",
      "source": [
        "test_loss_total = tf.Variable(0, dtype=tf.float32)\n",
        "preds = mlp_on_cpu.forward(x_test)\n",
        "  #b = mlp_on_default.loss(preds, outputs)\n",
        "test_loss_total = test_loss_total + mlp_on_cpu.loss(preds, y_test)\n",
        "\n",
        "print('Test Categorical entropy loss: {:.4f}'.format(np.sum(test_loss_total.numpy()) / x_test.shape[0]))\n",
        "maxposition = lambda x : np.argmax(x)\n",
        "  # List comprehension to map the lambda function across all records of yTrue and yPred\n",
        "yTrueMax = np.array([maxposition(rec) for rec in y_test])\n",
        "yPredMax = np.array([maxposition(rec) for rec in preds])\n",
        "val_acc = sum(yPredMax == yTrueMax)/len(yPredMax)\n",
        "print('Test Accuracy: {:.4f}'.format(val_acc*100,\"%\"))"
      ],
      "metadata": {
        "colab": {
          "base_uri": "https://localhost:8080/"
        },
        "id": "4fiCb0hZMRsL",
        "outputId": "27014840-ed1e-4103-84a3-e7ae1760e841"
      },
      "execution_count": 28,
      "outputs": [
        {
          "output_type": "stream",
          "name": "stdout",
          "text": [
            "Test Categorical entropy loss: 0.0022\n",
            "Test Accuracy: 70.8476\n"
          ]
        }
      ]
    },
    {
      "cell_type": "code",
      "source": [
        "import numpy as np\n",
        "import matplotlib.pyplot as plt\n",
        "\n",
        "accuracy_base = np.array([56.80, 47.44, 47.81, 47.41, 51.20, 44.70, 46.86, 45.25, 45.44, 45.56])/100.0\n",
        "mean_base = np.sum(accuracy_base)/accuracy_base.shape[0]\n",
        "standard_dev_base = np.sqrt(np.sum((accuracy_base-mean_base)**2)/(accuracy_base.shape[0]-1.0))\n",
        "standard_error_base = standard_dev_base/np.sqrt(accuracy_base.shape[0])\n",
        "variance_base = standard_dev_base**2\n",
        "\n",
        "\n",
        "\n",
        "\n",
        "accuracy_L1 = np.array([35.64, 65.38, 38.88, 49.55, 69.67, 47.81, 63.88, 62.20, 65.38, 49.64])/100.0\n",
        "mean_L1 = np.sum(accuracy_L1)/accuracy_L1.shape[0]\n",
        "standard_dev_L1 = np.sqrt(np.sum((accuracy_L1-mean_L1)**2)/(accuracy_L1.shape[0]-1.0))\n",
        "standard_error_L1 = standard_dev_L1/np.sqrt(accuracy_L1.shape[0])\n",
        "variance_L1 = standard_dev_L1**2\n",
        "\n",
        "accuracy_L2 = np.array([64.52, 67.95, 58.26, 64.46, 56.47, 63.63, 57.30, 54.49, 60.33, 62.54])/100.0\n",
        "mean_L2 = np.sum(accuracy_L2)/accuracy_L2.shape[0]\n",
        "standard_dev_L2 = np.sqrt(np.sum((accuracy_L2-mean_L2)**2)/(accuracy_L2.shape[0]-1.0))\n",
        "standard_error_L2 = standard_dev_L2/np.sqrt(accuracy_L2.shape[0])\n",
        "variance_L2 = standard_dev_L2**2\n",
        "\n",
        "accuracy_optimised = np.array([69.52, 67.95, 58.26, 74.46, 62.47, 63.63, 67.30, 68.49, 70.84, 71.58])/100.0\n",
        "mean_optimised = np.sum(accuracy_optimised)/accuracy_optimised.shape[0]\n",
        "standard_dev_optimised = np.sqrt(np.sum((accuracy_optimised-mean_optimised)**2)/(accuracy_optimised.shape[0]-1.0))\n",
        "standard_error_optimised = standard_dev_optimised/np.sqrt(accuracy_optimised.shape[0])\n",
        "variance_optimised = standard_dev_optimised**2\n",
        "\n",
        "x = np.array([0,1,2,3])\n",
        "y_mean = np.array([mean_base, mean_L1, mean_L2, mean_optimised])\n",
        "y_standard_error = np.array([standard_error_base, standard_error_L1, standard_error_L2, standard_error_optimised])\n",
        "y_variance = np.array([variance_base, variance_L1, variance_L2,variance_optimised])\n",
        "\n",
        "plt.figure(0)\n",
        "my_xticks = ['Without Regularization','L1','L2','optimised']\n",
        "plt.plot(x, y_mean, 'bo', label='Mean Accuracy')\n",
        "plt.plot(x, y_standard_error, 'ro', label='Mean Standard Error')\n",
        "plt.plot(x, y_variance, 'go', label='Mean Variance')\n",
        "plt.xticks(x, my_xticks)\n",
        "plt.xlabel('Model')\n",
        "plt.ylabel('Test accuracy')\n",
        "plt.title('MNIST-784 dataset')\n",
        "plt.legend()\n",
        "plt.savefig('MNIST_plots.jpg',dpi=200)"
      ],
      "metadata": {
        "colab": {
          "base_uri": "https://localhost:8080/",
          "height": 295
        },
        "id": "j-EZp7CRKOyV",
        "outputId": "950c4c25-ef52-4816-ed3e-ac633a08f60a"
      },
      "execution_count": 48,
      "outputs": [
        {
          "output_type": "display_data",
          "data": {
            "image/png": "[encoded data removed]",
            "text/plain": [
              "<Figure size 432x288 with 1 Axes>"
            ]
          },
          "metadata": {
            "needs_background": "light"
          }
        }
      ]
    },
    {
      "cell_type": "code",
      "source": [
        "(mean_L1-mean_base)*100"
      ],
      "metadata": {
        "colab": {
          "base_uri": "https://localhost:8080/"
        },
        "id": "48jjHN6kKOvP",
        "outputId": "f0f367ec-6614-4ed7-83bc-4095441cff85"
      },
      "execution_count": 34,
      "outputs": [
        {
          "output_type": "execute_result",
          "data": {
            "text/plain": [
              "6.956000000000012"
            ]
          },
          "metadata": {},
          "execution_count": 34
        }
      ]
    },
    {
      "cell_type": "code",
      "source": [
        "(mean_base-mean_optimised)*100"
      ],
      "metadata": {
        "id": "Qr7dJFWNinN1",
        "colab": {
          "base_uri": "https://localhost:8080/"
        },
        "outputId": "e453bb50-6935-4d57-e8fe-ea06829aeaa0"
      },
      "execution_count": 39,
      "outputs": [
        {
          "output_type": "execute_result",
          "data": {
            "text/plain": [
              "-19.60300000000001"
            ]
          },
          "metadata": {},
          "execution_count": 39
        }
      ]
    },
    {
      "cell_type": "code",
      "source": [
        "import numpy as np\n",
        "import matplotlib.pyplot as plt\n",
        "\n",
        "accuracy_base = np.array([51.10, 42.24, 44.21, 44.21, 53.20, 46.30, 47.33, 46.23, 48.23, 31.46])/100.0\n",
        "mean_base = np.sum(accuracy_base)/accuracy_base.shape[0]\n",
        "standard_dev_base = np.sqrt(np.sum((accuracy_base-mean_base)**2)/(accuracy_base.shape[0]-1.0))\n",
        "standard_error_base = standard_dev_base/np.sqrt(accuracy_base.shape[0])\n",
        "variance_base = standard_dev_base**2\n",
        "\n",
        "\n",
        "\n",
        "\n",
        "accuracy_L1 = np.array([65.45, 32.85, 45.81, 37.45, 64.67, 67.13, 62.28, 62.90, 52.86, 65.64])/100.0\n",
        "mean_L1 = np.sum(accuracy_L1)/accuracy_L1.shape[0]\n",
        "standard_dev_L1 = np.sqrt(np.sum((accuracy_L1-mean_L1)**2)/(accuracy_L1.shape[0]-1.0))\n",
        "standard_error_L1 = standard_dev_L1/np.sqrt(accuracy_L1.shape[0])\n",
        "variance_L1 = standard_dev_L1**2\n",
        "\n",
        "accuracy_L2 = np.array([63.23, 64.54, 64.64, 58.36, 62.37, 56.33, 54.04, 53.93, 61.13, 62.23])/100.0\n",
        "mean_L2 = np.sum(accuracy_L2)/accuracy_L2.shape[0]\n",
        "standard_dev_L2 = np.sqrt(np.sum((accuracy_L2-mean_L2)**2)/(accuracy_L2.shape[0]-1.0))\n",
        "standard_error_L2 = standard_dev_L2/np.sqrt(accuracy_L2.shape[0])\n",
        "variance_L2 = standard_dev_L2**2\n",
        "\n",
        "accuracy_optimised = np.array([68.24, 68.59, 74.63, 53.46, 60.74, 63.39, 63.03, 64.49, 72.44, 68.84])/100.0\n",
        "mean_optimised = np.sum(accuracy_optimised)/accuracy_optimised.shape[0]\n",
        "standard_dev_optimised = np.sqrt(np.sum((accuracy_optimised-mean_optimised)**2)/(accuracy_optimised.shape[0]-1.0))\n",
        "standard_error_optimised = standard_dev_optimised/np.sqrt(accuracy_optimised.shape[0])\n",
        "variance_optimised = standard_dev_optimised**2\n",
        "\n",
        "x = np.array([0,1,2,3])\n",
        "y_mean = np.array([mean_base, mean_L1, mean_L2, mean_optimised])\n",
        "y_standard_error = np.array([standard_error_base, standard_error_L1, standard_error_L2, standard_error_optimised])\n",
        "y_variance = np.array([variance_base, variance_L1, variance_L2,variance_optimised])\n",
        "\n",
        "plt.figure(0)\n",
        "my_xticks = ['Without Regularization','L1','L2','optimised']\n",
        "plt.plot(x, y_mean, 'bo', label='Mean Accuracy')\n",
        "plt.plot(x, y_standard_error, 'ro', label='Mean Standard Error')\n",
        "plt.plot(x, y_variance, 'go', label='Mean Variance')\n",
        "plt.xticks(x, my_xticks)\n",
        "plt.xlabel('Model')\n",
        "plt.ylabel('Test accuracy')\n",
        "plt.title('MNIST-Fashion dataset')\n",
        "plt.legend()\n",
        "plt.savefig('MNIST_plots.jpg',dpi=200)"
      ],
      "metadata": {
        "id": "NfDD77Vgt1vO",
        "outputId": "51b0b968-14d0-4a44-9fa4-c79c47d6deab",
        "colab": {
          "base_uri": "https://localhost:8080/",
          "height": 295
        }
      },
      "execution_count": 47,
      "outputs": [
        {
          "output_type": "display_data",
          "data": {
            "image/png": "[encoded data removed]",
            "text/plain": [
              "<Figure size 432x288 with 1 Axes>"
            ]
          },
          "metadata": {
            "needs_background": "light"
          }
        }
      ]
    },
    {
      "cell_type": "code",
      "source": [
        "(mean_base-mean_L1)*100"
      ],
      "metadata": {
        "id": "9p3QMu5O1Y_D",
        "outputId": "60e38cbd-817a-4a66-e700-05710c8e35dd",
        "colab": {
          "base_uri": "https://localhost:8080/"
        }
      },
      "execution_count": 44,
      "outputs": [
        {
          "output_type": "execute_result",
          "data": {
            "text/plain": [
              "-10.253"
            ]
          },
          "metadata": {},
          "execution_count": 44
        }
      ]
    },
    {
      "cell_type": "code",
      "source": [
        "(mean_base-mean_L2)*100"
      ],
      "metadata": {
        "id": "NilgikJA6naQ",
        "outputId": "d95f5c5e-f839-49cb-e417-cce5d76521a1",
        "colab": {
          "base_uri": "https://localhost:8080/"
        }
      },
      "execution_count": 45,
      "outputs": [
        {
          "output_type": "execute_result",
          "data": {
            "text/plain": [
              "-14.629000000000003"
            ]
          },
          "metadata": {},
          "execution_count": 45
        }
      ]
    },
    {
      "cell_type": "code",
      "source": [
        "(mean_base-mean_optimised)*100"
      ],
      "metadata": {
        "id": "54ei2QU_7pal",
        "outputId": "86eac844-6501-41e7-f079-99be095f235d",
        "colab": {
          "base_uri": "https://localhost:8080/"
        }
      },
      "execution_count": 46,
      "outputs": [
        {
          "output_type": "execute_result",
          "data": {
            "text/plain": [
              "-20.333999999999996"
            ]
          },
          "metadata": {},
          "execution_count": 46
        }
      ]
    },
    {
      "cell_type": "code",
      "source": [
        ""
      ],
      "metadata": {
        "id": "_CLChrL58J5f"
      },
      "execution_count": null,
      "outputs": []
    }
  ]
}